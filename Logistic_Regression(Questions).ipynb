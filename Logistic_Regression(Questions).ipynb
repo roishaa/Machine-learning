{
  "cells": [
    {
      "cell_type": "markdown",
      "metadata": {
        "id": "GFKoS2dWFqTg"
      },
      "source": [
        "**# Classification-Introduction:**\n",
        "\n",
        "In Statistics and Machine Learning, classification is a type of supervised learning task, where training data with known class labels are given and are used to estimate a function, which can map a unseen  features (Idependent  Variables $X$) to its class label (Dependent Variable $Y$) .\n",
        "\n",
        "Tasks in Supervised Learning-Classification Task can be:\n",
        "  *   Binary Classification.\n",
        "  *   Multiclass Classification.\n",
        "\n",
        "This Notebook consist of One Sections:\n",
        "  *   Section-1: This section will discuss how can we use Logistic Regression to perform Binary Classification Task.\n",
        "    *   We also describe various helper function such as Sigmoid Function, Cost fucntion and disccuss.\n",
        "\n",
        "Author-Siman Giri."
      ]
    },
    {
      "cell_type": "markdown",
      "metadata": {
        "id": "NSBFhL05IdaO"
      },
      "source": [
        "# Section-1: Binary Classification with Logistic Regression.\n",
        "\n",
        "___\n",
        "\n"
      ]
    },
    {
      "cell_type": "markdown",
      "metadata": {
        "id": "exqiG--qJKJh"
      },
      "source": [
        "## Helper Function:\n",
        "\n",
        "Let's discuss two function we need to further implement logistic regression.\n",
        "  1.   Sigmoid Function.\n",
        "  2.   Cost(Loss) Function.\n",
        "\n",
        "___\n",
        "\n",
        "\n"
      ]
    },
    {
      "cell_type": "markdown",
      "metadata": {
        "id": "4sKX3VdDJsOk"
      },
      "source": [
        "### Sigmoid Function:\n",
        "A function  $[g : R -> R] $  is said to be a sigmoid function, if the function is bounded, differentiable, real function that is defined for all real input values and has a non-negative derivative at each point and exactly on inflection point. The sigmoid fucntion has a characterstic \"S\" shaped curved also known as sigmoid curve.  [--- Wikipedia]\n",
        "\n",
        "A comon example of a sigmoid function is the logistic function described as below:\n",
        "$$ g(x) = \\frac{1}{1+e^{-x}}, $$\n",
        "\n",
        "for $x \\in \\mathbb{R}$.\n",
        "\n",
        "The next two code blocks construct and plot this function.\n",
        "___"
      ]
    },
    {
      "cell_type": "code",
      "execution_count": null,
      "metadata": {
        "id": "ATSH37zsE0LX"
      },
      "outputs": [],
      "source": [
        "import numpy as np"
      ]
    },
    {
      "cell_type": "code",
      "execution_count": null,
      "metadata": {
        "colab": {
          "base_uri": "https://localhost:8080/"
        },
        "id": "zOXBvw9DNuyh",
        "outputId": "ed54df3f-45e5-46fd-c323-a87de7bebacc"
      },
      "outputs": [
        {
          "output_type": "stream",
          "name": "stdout",
          "text": [
            "logistic(0) = 0.5\n",
            "logistc([-3 -1  1  3]) = [0.04742587 0.26894142 0.73105858 0.95257413]\n",
            "logistic(0) = 0.5\n",
            "logistc([-3 -1  1  3]) = [0.04742587 0.26894142 0.73105858 0.95257413]\n"
          ]
        }
      ],
      "source": [
        "def logistic_function(x):\n",
        "  \"\"\"\n",
        "  Computes the logistic function applied to any value of x.\n",
        "  Arguments:\n",
        "    x: scalar or numpy array of any size.\n",
        "  Returns:\n",
        "    y: logistic function applied to x.\n",
        "  \"\"\"\n",
        "def logistic_function(x):\n",
        "  \"\"\"\n",
        "  Computes the logistic function applied to any value of x.\n",
        "  Arguments:\n",
        "    x: scalar or numpy array of any size.\n",
        "  Returns:\n",
        "    y: logistic function applied to x.\n",
        "  \"\"\"\n",
        "  import numpy as np\n",
        "  # Your Code here\n",
        "  y = 1 / (1 + np.exp(-x))\n",
        "  return y\n",
        "# Test Function:\n",
        "# For scalar:\n",
        "x = 0\n",
        "y = logistic_function(x)\n",
        "print(f\"logistic({x}) = {logistic_function(x)}\")\n",
        "# For Array:\n",
        "x_arr = np.array([-3, -1, 1, 3])\n",
        "y_arr = logistic_function(x_arr)\n",
        "print(f\"logistc({x_arr}) = {logistic_function(x_arr)}\")\n",
        "# For scalar:\n",
        "x = 0\n",
        "y = logistic_function(x)\n",
        "print(f\"logistic({x}) = {logistic_function(x)}\")\n",
        "# For Array:\n",
        "x_arr = np.array([-3, -1, 1, 3])\n",
        "y_arr = logistic_function(x_arr)\n",
        "print(f\"logistc({x_arr}) = {logistic_function(x_arr)}\")\n"
      ]
    },
    {
      "cell_type": "code",
      "execution_count": null,
      "metadata": {
        "colab": {
          "base_uri": "https://localhost:8080/",
          "height": 372
        },
        "id": "g_GyQ3WHQPbJ",
        "outputId": "0398f18b-df82-41e0-de54-b0daa02188ad"
      },
      "outputs": [
        {
          "output_type": "display_data",
          "data": {
            "text/plain": [
              "<Figure size 1000x500 with 1 Axes>"
            ],
            "image/png": "[encoded data removed]"
          },
          "metadata": {}
        }
      ],
      "source": [
        "# Plooting the sigmoid function:\n",
        "import matplotlib.pyplot as plt\n",
        "import numpy as np\n",
        "plt.figure(figsize = (10, 5))\n",
        "x = np.linspace(-11, 11, 100)\n",
        "plt.plot(x, logistic_function(x), color = 'red')\n",
        "plt.xlabel(\"x\", fontsize = 14)\n",
        "plt.ylabel(\"g(x)\", fontsize = 14)\n",
        "plt.title(\"Standard logistic function\", fontsize = 14)\n",
        "plt.tight_layout()\n",
        "plt.show()\n"
      ]
    },
    {
      "cell_type": "markdown",
      "metadata": {
        "id": "e6QM_2RWQsTw"
      },
      "source": [
        "### Cost(Loss) Function:\n",
        "Cost vs Loss Function:\n",
        "\n",
        "In general, loss function corresponds to observed error value between target value and predicted value for single observation/data points whereas cost function represents the average loss over a group of observations/data points.\n",
        "\n",
        "Due to the non-linearity introduced by logistic function in the function, we can not use squared loss as an loss function, instead we make use of log-loss function, given by:\n",
        "\n",
        "$$ L(y, y') = -y \\log\\left(y'\\right) - \\left(1 - y\\right) \\log\\left(1 - y'\\right), $$\n",
        "\n",
        "Where:\n",
        "*   $y$ : True target value (taking values $0$ or $1$)\n",
        "*   $y'$ : Predeicted target value ( predicted probability of $y$ being $1$ and vice versa.)\n",
        "\n",
        "The basis intution behind the log-loss function is, the loss value should be minimum when our predicted probability values are closer to true target value.\n"
      ]
    },
    {
      "cell_type": "code",
      "execution_count": null,
      "metadata": {
        "colab": {
          "base_uri": "https://localhost:8080/"
        },
        "id": "dDLxGVmwUQQ7",
        "outputId": "7e013de1-de24-47fd-8c04-be952258a5d9"
      },
      "outputs": [
        {
          "output_type": "stream",
          "name": "stdout",
          "text": [
            "log loss(0, 0.1) ==> 0.10536051565782628\n",
            "+++++++++++++--------------------------++++++++++++++++++++++++\n",
            "log loss(1, 0.9) ==> 0.10536051565782628\n"
          ]
        }
      ],
      "source": [
        "def log_loss(y_true, y_pred):\n",
        "    \"\"\"\n",
        "    Computes log loss for true target value y ={0 or 1} and predicted target value y' in between {0-1}.\n",
        "    Arguments:\n",
        "        y_true (scalar): true target value {0 or 1}.\n",
        "        y_pred (scalar): predicted target value {0-1}.\n",
        "    Returns:\n",
        "        loss (float): loss/error value\n",
        "    \"\"\"\n",
        "    import numpy as np\n",
        "    # Prevent division by zero and log of zero\n",
        "    epsilon = 1e-15\n",
        "    y_pred = np.clip(y_pred, epsilon, 1 - epsilon)\n",
        "    loss = -(y_true * np.log(y_pred) + (1 - y_true) * np.log(1 - y_pred))\n",
        "    return loss\n",
        "\n",
        "# Test function:\n",
        "y_true, y_pred = 0, 0.1\n",
        "print(f'log loss({y_true}, {y_pred}) ==> {log_loss(y_true, y_pred)}')\n",
        "print(\"+++++++++++++--------------------------++++++++++++++++++++++++\")\n",
        "y_true, y_pred = 1, 0.9\n",
        "print(f'log loss({y_true}, {y_pred}) ==> {log_loss(y_true, y_pred)}')\n"
      ]
    },
    {
      "cell_type": "code",
      "execution_count": null,
      "metadata": {
        "colab": {
          "base_uri": "https://localhost:8080/",
          "height": 301
        },
        "id": "MOWpQJFK30gr",
        "outputId": "f62f2209-896b-43a2-bb8d-668c24ec2afe"
      },
      "outputs": [
        {
          "output_type": "display_data",
          "data": {
            "text/plain": [
              "<Figure size 1500x600 with 2 Axes>"
            ],
            "image/png": "[encoded data removed]"
          },
          "metadata": {}
        }
      ],
      "source": [
        "# Plot the loss Function:\n",
        "import matplotlib.pyplot as plt\n",
        "fig, ax = plt.subplots(1, 2, figsize = (15, 6), sharex = True, sharey = True)\n",
        "y_pred = np.linspace(0.0001, 0.9999, 100)\n",
        "ax[0].plot(y_pred, log_loss(0, y_pred), color = 'red')\n",
        "ax[0].set_title(\"y = 0\", fontsize = 14)\n",
        "ax[0].set_xlabel(\"y_pred\", fontsize = 14)\n",
        "ax[0].set_ylabel(\"log loss\", fontsize = 14)\n",
        "ax[1].plot(y_pred, log_loss(1, y_pred), color = 'red')\n",
        "ax[1].set_title(\"y = 1\", fontsize = 14)\n",
        "ax[1].set_xlabel(\"y_pred\", fontsize = 14)\n",
        "plt.tight_layout()\n",
        "plt.show()"
      ]
    },
    {
      "cell_type": "markdown",
      "metadata": {
        "id": "nKRbJzqS4W9D"
      },
      "source": [
        "### Cost Function:\n",
        "As described above, we determine the cost function as an average of loss function value calculated for each observation/datapoints.\n",
        "\n",
        "Let $y = (y_1,....,y_n)$ be the true target values{(0 or 1)}  and $y'=(y_1',....y_n')$ be the corresponding predicted target values in between {(0-1)}, then the cost function be:\n",
        "\n",
        "$$ C(\\mathbf{y}, \\mathbf{y'}) = \\frac{1}{n}\\sum_{i = 1}^n L(y_i, y_i').\\tag{0} $$\n"
      ]
    },
    {
      "cell_type": "code",
      "execution_count": null,
      "metadata": {
        "colab": {
          "base_uri": "https://localhost:8080/"
        },
        "id": "938aG1sz95b6",
        "outputId": "9ba4fa96-6dbf-4328-a95e-c876dfc62650"
      },
      "outputs": [
        {
          "output_type": "stream",
          "name": "stdout",
          "text": [
            "cost_function([0 1 0], [0.4  0.6  0.25]) = 0.43644443999458743\n"
          ]
        }
      ],
      "source": [
        "import numpy as np\n",
        "\n",
        "def cost_function(y_true, y_pred):\n",
        "    \"\"\"\n",
        "    Computes log loss for inputs true value (0 or 1) and predicted value (between 0 and 1).\n",
        "    Args:\n",
        "      y_true    (array_like, shape (m,)): array of true values (0 or 1)\n",
        "      y_pred (array_like, shape (m,)): array of predicted values (probability of y_pred being 1)\n",
        "    Returns:\n",
        "      cost (float): nonnegative cost corresponding to y_true and y_pred\n",
        "    \"\"\"\n",
        "    assert len(y_true) == len(y_pred), \"Length of true values and predicted values do not match\"\n",
        "\n",
        "    # Prevent log(0) by clipping y_pred\n",
        "    epsilon = 1e-15\n",
        "    y_pred = np.clip(y_pred, epsilon, 1 - epsilon)\n",
        "\n",
        "    # Number of samples\n",
        "    n = len(y_true)\n",
        "\n",
        "    # Compute the loss for each sample\n",
        "    loss_vec = -(y_true * np.log(y_pred) + (1 - y_true) * np.log(1 - y_pred))\n",
        "\n",
        "    # Average cost over all samples\n",
        "    cost = np.mean(loss_vec)\n",
        "    return cost\n",
        "\n",
        "# Test function\n",
        "y_true = np.array([0, 1, 0])\n",
        "y_pred = np.array([0.4, 0.6, 0.25])\n",
        "print(f\"cost_function({y_true}, {y_pred}) = {cost_function(y_true, y_pred)}\")\n"
      ]
    },
    {
      "cell_type": "markdown",
      "metadata": {
        "id": "--SYJgFONMZj"
      },
      "source": [
        "Extending the cost function for logistic regression to be used with model parameters.\n",
        "\n",
        "Function we are estimating:\n",
        "\n",
        "$$ y' = g\\left(\\mathbf{x} \\cdot \\mathbf{θ} + b\\right) = \\frac{1}{1 + e^{-\\left(\\mathbf{x} \\cdot \\mathbf{\\theta} + b\\right)}}. \\tag{1} $$\n",
        "\n",
        "Where:\n",
        "- $\\theta$ parameters (Coefficinet of feature variable) also known as weights.\n",
        "-$b$ parameters ( intercept of the function) also known as bias.\n",
        "\n",
        "Assume;\n",
        "- X: Matirix of n independent variables;\n",
        "- Y: Matrix of n dependent variables;\n",
        "- Y': Matrix of n predicted variables; and are represented as follows:\n",
        "\n",
        "$$ \\mathbf{X} = \\begin{pmatrix}\n",
        "x_{1,1} & x_{1,2} & \\cdots & x_{1,n} \\newline\n",
        "x_{2,1} & x_{2,2} & \\cdots & x_{2,n} \\newline\n",
        "\\vdots & \\vdots & \\ddots & \\vdots \\newline\n",
        "x_{m,1} & x_{m,2} & \\cdots & x_{m,n}\n",
        "\\end{pmatrix},\\;\\;\\;\\;\n",
        "\\mathbf{y} = \\begin{pmatrix}\n",
        "y_1 \\newline\n",
        "y_2 \\newline\n",
        "\\vdots \\newline\n",
        "y_m\n",
        "\\end{pmatrix},\\;\\;\\;\\;\n",
        "\\mathbf{y'} = \\begin{pmatrix}\n",
        "g\\left(\\mathbf{x_1} \\cdot \\mathbf{\\theta} + b\\right) \\newline\n",
        "g\\left(\\mathbf{x_2} \\cdot \\mathbf{\\theta} + b\\right) \\newline\n",
        "\\vdots \\newline\n",
        "g\\left(\\mathbf{x_n} \\cdot \\mathbf{\\theta} + b\\right)\n",
        "\\end{pmatrix}. \\tag{2} $$\n",
        "\n",
        "Now rewrite cost funtion defined in $(0)$ for model parameters as:\n",
        "\n",
        "$$ J\\left(\\mathbf{w}, b\\right) := C\\left(\\mathbf{y}, \\mathbf{y'} \\,\\vert\\, \\mathbf{X}, \\mathbf{w}, b \\right) = \\frac{1}{m}\\sum_{i = 1}^m L\\left(y_i, \\frac{1}{1 + e^{-\\left(\\mathbf{x_i} \\cdot \\mathbf{w} + b\\right)}}\\right) $$\n",
        "$$= \\frac{1}{m}\\sum_{i = 1}^m \\left[ -y_i \\log\\left(\\frac{1}{1 + e^{-\\left(\\mathbf{x_i} \\cdot \\mathbf{w} + b\\right)}}\\right) - \\left(1 - y_i\\right) \\log\\left(1 - \\frac{1}{1 + e^{-\\left(\\mathbf{x_i} \\cdot \\mathbf{w} + b\\right)}}\\right) \\right]. \\tag{3} $$\n"
      ]
    },
    {
      "cell_type": "code",
      "execution_count": null,
      "metadata": {
        "colab": {
          "base_uri": "https://localhost:8080/"
        },
        "id": "W5k8Pi5r5ipE",
        "outputId": "8c4b727e-498a-4181-9cdf-74dd4b0306e8"
      },
      "outputs": [
        {
          "output_type": "stream",
          "name": "stdout",
          "text": [
            "cost for logistic regression(X = [[ 10  20]\n",
            " [-10  10]], y = [1 0], w = [0.5 1.5], b = 1) = 5.500008350784907\n"
          ]
        }
      ],
      "source": [
        "import numpy as np\n",
        "\n",
        "def costfunction_logreg(X, y, w, b):\n",
        "    \"\"\"\n",
        "    Computes the cost function, given data and model parameters.\n",
        "    Args:\n",
        "      X (ndarray, shape (m,n))  : data on features, m observations with n features\n",
        "      y (array_like, shape (m,)): array of true values of target (0 or 1)\n",
        "      w (array_like, shape (n,)): weight parameters of the model\n",
        "      b (float)                 : bias parameter of the model\n",
        "    Returns:\n",
        "      cost (float): nonnegative cost corresponding to y and y_dash\n",
        "    \"\"\"\n",
        "    # Number of observations and features\n",
        "    m, n = X.shape\n",
        "\n",
        "    # Assertions to ensure input dimensions match\n",
        "    assert len(y) == m, \"Number of feature observations and number of target observations do not match\"\n",
        "    assert len(w) == n, \"Number of features and number of weight parameters do not match\"\n",
        "\n",
        "    # Compute z = Xw + b\n",
        "    z = np.dot(X, w) + b\n",
        "\n",
        "    # Apply sigmoid function to compute predictions\n",
        "    y_pred = 1 / (1 + np.exp(-z))\n",
        "\n",
        "    # Clip predictions to avoid log(0) errors\n",
        "    epsilon = 1e-15\n",
        "    y_pred = np.clip(y_pred, epsilon, 1 - epsilon)\n",
        "\n",
        "    # Compute cost using the log loss formula\n",
        "    cost = -(1 / m) * np.sum(y * np.log(y_pred) + (1 - y) * np.log(1 - y_pred))\n",
        "\n",
        "    return cost\n",
        "\n",
        "# Test function\n",
        "X = np.array([[10, 20], [-10, 10]])\n",
        "y = np.array([1, 0])\n",
        "w = np.array([0.5, 1.5])\n",
        "b = 1\n",
        "print(f\"cost for logistic regression(X = {X}, y = {y}, w = {w}, b = {b}) = {costfunction_logreg(X, y, w, b)}\")\n"
      ]
    },
    {
      "cell_type": "markdown",
      "metadata": {
        "id": "DAGw3-xqXJkW"
      },
      "source": [
        "### Gradient Descent Algorithm\n",
        "\n",
        "The gradient descent algorithm is a first order iterative optimization algorithm for finding alocal minimum of a differentiable function.\n",
        "\n",
        "The Algorithm:\n",
        "$$ \\begin{align*}\n",
        "& \\text{repeat until convergence:}\\; \\{ \\newline\n",
        "& w_j := w_j -  \\alpha \\frac{\\partial J(\\mathbf{w},b)}{\\partial w_j},\\; \\text{ for } j = 1, 2, \\ldots, n; \\newline\n",
        "& b := b -  \\alpha \\frac{\\partial J(\\mathbf{w}, b)}{\\partial b}. \\tag{4} \\newline\n",
        "& \\}\n",
        "\\end{align*} $$\n",
        "\n",
        "- where $\\alpha$ is the learning rate, and the parameters $\\mathbf{w} = (w_1, w_2, \\cdots, w_n)$ and $b$ are updated simultaniously in each iteration.\n",
        "\n",
        "\n"
      ]
    },
    {
      "cell_type": "markdown",
      "metadata": {
        "id": "7z9-J9sKX0Sd"
      },
      "source": [
        "**Compute Gradient:**\n",
        "\n",
        "Before we can implement the gradient descent algorithm, we need to compute the gradients, which are the partial derivatives of cost function $J(w,b)$ and are as follows:\n",
        "\n",
        "\n",
        "$$ \\begin{align*}\n",
        "& \\frac{\\partial J(\\mathbf{w},b)}{\\partial w_j} = \\frac{1}{m} \\sum\\limits_{i = 1}^m \\left(\\frac{1}{1 + e^{-\\left(\\mathbf{x_i} \\cdot \\mathbf{w} + b\\right)}} - y_i\\right) x_{i,j},\\;\\; \\text{ for } j = 1, 2, \\ldots, n; \\newline\n",
        "& \\frac{\\partial J(\\mathbf{w}, b)}{\\partial b} = \\frac{1}{m} \\sum\\limits_{i = 1}^m \\left(\\frac{1}{1 + e^{-\\left(\\mathbf{x_i} \\cdot \\mathbf{w} + b\\right)}} - y_i\\right).\n",
        "\\end{align*} $$"
      ]
    },
    {
      "cell_type": "code",
      "execution_count": null,
      "metadata": {
        "colab": {
          "base_uri": "https://localhost:8080/"
        },
        "id": "cH6F9uAhYWlL",
        "outputId": "b5ea5847-b5dd-4af7-dbe9-60576d50f73f"
      },
      "outputs": [
        {
          "output_type": "stream",
          "name": "stdout",
          "text": [
            "gradient of logistic regression parameters (X = [[ 10  20]\n",
            " [-10  10]], y = [1 0], w = [0.5 1.5], b = 1) = ([-4.99991649  4.99991649], 0.4999916492890759)\n"
          ]
        }
      ],
      "source": [
        "import numpy as np\n",
        "\n",
        "def compute_gradient(X, y, w, b):\n",
        "    \"\"\"\n",
        "    Computes gradients of the cost function with respect to model parameters.\n",
        "    Args:\n",
        "      X (ndarray, shape (m,n))  : data on features, m observations with n features\n",
        "      y (array_like, shape (m,)): array of true values of target (0 or 1)\n",
        "      w (array_like, shape (n,)): weight parameters of the model\n",
        "      b (float)                 : bias parameter of the model\n",
        "    Returns:\n",
        "      grad_w (array_like, shape (n,)): gradients of the cost function with respect to the weight parameters\n",
        "      grad_b (float)                 : gradient of the cost function with respect to the bias parameter\n",
        "    \"\"\"\n",
        "    # Number of observations and features\n",
        "    m, n = X.shape\n",
        "\n",
        "    # Assertions to ensure input dimensions match\n",
        "    assert len(y) == m, \"Number of feature observations and number of target observations do not match\"\n",
        "    assert len(w) == n, \"Number of features and number of weight parameters do not match\"\n",
        "\n",
        "    # Compute predictions using the logistic regression hypothesis\n",
        "    z = np.dot(X, w) + b\n",
        "    y_pred = 1 / (1 + np.exp(-z))\n",
        "\n",
        "    # Compute the gradients\n",
        "    error = y_pred - y\n",
        "    grad_w = (1 / m) * np.dot(X.T, error)  # Gradient with respect to weights\n",
        "    grad_b = (1 / m) * np.sum(error)       # Gradient with respect to bias\n",
        "\n",
        "    return grad_w, grad_b\n",
        "\n",
        "# Test function\n",
        "X = np.array([[10, 20], [-10, 10]])\n",
        "y = np.array([1, 0])\n",
        "w = np.array([0.5, 1.5])\n",
        "b = 1\n",
        "grad_w, grad_b = compute_gradient(X, y, w, b)\n",
        "print(f\"gradient of logistic regression parameters (X = {X}, y = {y}, w = {w}, b = {b}) = ({grad_w}, {grad_b})\")\n"
      ]
    },
    {
      "cell_type": "markdown",
      "metadata": {
        "id": "T1KuJlZQYxJU"
      },
      "source": [
        "**Implement Gradient Descent for Logistic Regression.**"
      ]
    },
    {
      "cell_type": "code",
      "execution_count": null,
      "metadata": {
        "colab": {
          "base_uri": "https://localhost:8080/"
        },
        "id": "hd8IKGNIY4Dj",
        "outputId": "858541fd-ed3e-46f9-f738-27659e8e0146"
      },
      "outputs": [
        {
          "output_type": "stream",
          "name": "stderr",
          "text": [
            "Gradient Descent Progress: 100%|██████████| 10000/10000 [00:00<00:00, 21768.62it/s]"
          ]
        },
        {
          "output_type": "stream",
          "name": "stdout",
          "text": [
            "Final weights: [19.29990097  9.43877918]\n",
            "Final bias: -1.4078086898937374\n"
          ]
        },
        {
          "output_type": "stream",
          "name": "stderr",
          "text": [
            "\n"
          ]
        }
      ],
      "source": [
        "import numpy as np\n",
        "from tqdm import tqdm\n",
        "\n",
        "def compute_gradient(X, y, w, b):\n",
        "    \"\"\"\n",
        "    Computes gradients of the cost function with respect to model parameters.\n",
        "    Args:\n",
        "      X (ndarray, shape (m,n))  : data on features, m observations with n features\n",
        "      y (array_like, shape (m,)): array of true values of target (0 or 1)\n",
        "      w (array_like, shape (n,)): weight parameters of the model\n",
        "      b (float)                 : bias parameter of the model\n",
        "    Returns:\n",
        "      grad_w (array_like, shape (n,)): gradients of the cost function with respect to the weight parameters\n",
        "      grad_b (float)                 : gradient of the cost function with respect to the bias parameter\n",
        "    \"\"\"\n",
        "    m, n = X.shape\n",
        "    z = np.dot(X, w) + b\n",
        "    y_pred = 1 / (1 + np.exp(-z))\n",
        "    error = y_pred - y\n",
        "    grad_w = (1 / m) * np.dot(X.T, error)\n",
        "    grad_b = (1 / m) * np.sum(error)\n",
        "    return grad_w, grad_b\n",
        "\n",
        "def compute_cost(X, y, w, b):\n",
        "    \"\"\"\n",
        "    Computes the cost function for logistic regression.\n",
        "    Args:\n",
        "      X (ndarray, shape (m,n)): Feature data\n",
        "      y (array_like, shape (m,)): True labels\n",
        "      w (array_like, shape (n,)): Weights\n",
        "      b (scalar): Bias\n",
        "    Returns:\n",
        "      cost (float): Log-loss cost\n",
        "    \"\"\"\n",
        "    m = len(y)\n",
        "    z = np.dot(X, w) + b\n",
        "    y_pred = 1 / (1 + np.exp(-z))\n",
        "    cost = -(1 / m) * np.sum(y * np.log(y_pred + 1e-15) + (1 - y) * np.log(1 - y_pred + 1e-15))\n",
        "    return cost\n",
        "\n",
        "def gradient_descent(X, y, w, b, alpha, n_iter, show_cost=True, show_params=False):\n",
        "    \"\"\"\n",
        "    Implements batch gradient descent algorithm to learn and update model parameters.\n",
        "    Args:\n",
        "      X (ndarray, shape (m,n))  : data on features, m observations with n features\n",
        "      y (array_like, shape (m,)): true values of target (0 or 1)\n",
        "      w (array_like, shape (n,)): initial value of weight parameters\n",
        "      b (scalar)                : initial value of bias parameter\n",
        "      alpha (float)             : learning rate\n",
        "      n_iter (int)              : number of iterations\n",
        "      show_cost (bool)          : Whether to print cost during iterations\n",
        "      show_params (bool)        : Whether to print parameter values during iterations\n",
        "    Returns:\n",
        "      w (array_like, shape (n,)): updated values of weight parameters\n",
        "      b (scalar)                : updated value of bias parameter\n",
        "      cost_history (list)       : history of the cost function\n",
        "      params_history (list)     : history of parameter values\n",
        "    \"\"\"\n",
        "    m, n = X.shape\n",
        "    assert len(y) == m, \"Number of feature observations and number of target observations do not match\"\n",
        "    assert len(w) == n, \"Number of features and number of weight parameters do not match\"\n",
        "\n",
        "    cost_history, params_history = [], []\n",
        "\n",
        "    for i in tqdm(range(n_iter), desc=\"Gradient Descent Progress\"):\n",
        "        # Compute gradients\n",
        "        grad_w, grad_b = compute_gradient(X, y, w, b)\n",
        "\n",
        "        # Update parameters\n",
        "        w -= alpha * grad_w\n",
        "        b -= alpha * grad_b\n",
        "\n",
        "        # Compute cost\n",
        "        cost = compute_cost(X, y, w, b)\n",
        "        cost_history.append(cost)\n",
        "        params_history.append((w.copy(), b))\n",
        "\n",
        "        if show_cost and i % (n_iter // 10) == 0:\n",
        "            print(f\"Iteration {i}: Cost = {cost}\")\n",
        "\n",
        "        if show_params and i % (n_iter // 10) == 0:\n",
        "            print(f\"w = {w}, b = {b}\")\n",
        "\n",
        "    return w, b, cost_history, params_history\n",
        "\n",
        "# Test the gradient descent function\n",
        "X = np.array([[0.1, 0.2], [-0.1, 0.1]])\n",
        "y = np.array([1, 0])\n",
        "w = np.array([0., 0.])\n",
        "b = 0.\n",
        "alpha = 0.1\n",
        "n_iter = 10000\n",
        "\n",
        "w_out, b_out, cost_history, params_history = gradient_descent(X, y, w, b, alpha, n_iter, show_cost=False, show_params=False)\n",
        "\n",
        "print(f\"Final weights: {w_out}\")\n",
        "print(f\"Final bias: {b_out}\")\n"
      ]
    },
    {
      "cell_type": "code",
      "execution_count": null,
      "metadata": {
        "colab": {
          "base_uri": "https://localhost:8080/",
          "height": 441
        },
        "id": "bI96yman53sw",
        "outputId": "e82d9310-777d-4c6b-afaa-55f7a8cbb8ec"
      },
      "outputs": [
        {
          "data": {
            "image/png": "[encoded data removed]",
            "text/plain": [
              "<Figure size 648x432 with 1 Axes>"
            ]
          },
          "metadata": {
            "needs_background": "light"
          },
          "output_type": "display_data"
        }
      ],
      "source": [
        "# Plotting cost over iteration\n",
        "plt.figure(figsize = (9, 6))\n",
        "plt.plot(cost_history)\n",
        "plt.xlabel(\"Iteration\", fontsize = 14)\n",
        "plt.ylabel(\"Cost\", fontsize = 14)\n",
        "plt.title(\"Cost vs Iteration\", fontsize = 14)\n",
        "plt.tight_layout()\n",
        "plt.show()"
      ]
    },
    {
      "cell_type": "markdown",
      "metadata": {
        "id": "qXOAgvPxabDh"
      },
      "source": [
        "# Logistic Regression-Scratch Implementation."
      ]
    },
    {
      "cell_type": "code",
      "execution_count": null,
      "metadata": {
        "id": "V_aT7vJFaPwB"
      },
      "outputs": [],
      "source": [
        "path_dataset = \"/content/drive/MyDrive/Colab Notebooks/Datasets/Iris.csv\""
      ]
    },
    {
      "cell_type": "code",
      "execution_count": null,
      "metadata": {
        "id": "5CdYY2dYuIcr"
      },
      "outputs": [],
      "source": [
        "import numpy as np\n",
        "import pandas as pd\n",
        "import matplotlib.pyplot as plt\n"
      ]
    },
    {
      "cell_type": "code",
      "execution_count": null,
      "metadata": {
        "id": "jwYRQb82vgh4"
      },
      "outputs": [],
      "source": [
        "data = pd.read_csv(path_dataset)"
      ]
    },
    {
      "cell_type": "code",
      "source": [
        "from google.colab import drive\n",
        "drive.mount('/content/drive')"
      ],
      "metadata": {
        "id": "3aRozsYBWPhX",
        "outputId": "9adf1587-c488-4985-d968-c0c4f4c3e3de",
        "colab": {
          "base_uri": "https://localhost:8080/"
        }
      },
      "execution_count": null,
      "outputs": [
        {
          "output_type": "stream",
          "name": "stdout",
          "text": [
            "Drive already mounted at /content/drive; to attempt to forcibly remount, call drive.mount(\"/content/drive\", force_remount=True).\n"
          ]
        }
      ]
    },
    {
      "cell_type": "code",
      "execution_count": null,
      "metadata": {
        "colab": {
          "base_uri": "https://localhost:8080/",
          "height": 206
        },
        "id": "USgZSg4KvkIo",
        "outputId": "1fe30936-8f62-49be-9029-921664f3eea8"
      },
      "outputs": [
        {
          "output_type": "execute_result",
          "data": {
            "text/plain": [
              "   Id  SepalLengthCm  SepalWidthCm  PetalLengthCm  PetalWidthCm      Species\n",
              "0   1            5.1           3.5            1.4           0.2  Iris-setosa\n",
              "1   2            4.9           3.0            1.4           0.2  Iris-setosa\n",
              "2   3            4.7           3.2            1.3           0.2  Iris-setosa\n",
              "3   4            4.6           3.1            1.5           0.2  Iris-setosa\n",
              "4   5            5.0           3.6            1.4           0.2  Iris-setosa"
            ],
            "text/html": [
              "\n",
              "  <div id=\"df-d48b86f5-0d59-4859-8e40-afef109b8d7f\" class=\"colab-df-container\">\n",
              "    <div>\n",
              "<style scoped>\n",
              "    .dataframe tbody tr th:only-of-type {\n",
              "        vertical-align: middle;\n",
              "    }\n",
              "\n",
              "    .dataframe tbody tr th {\n",
              "        vertical-align: top;\n",
              "    }\n",
              "\n",
              "    .dataframe thead th {\n",
              "        text-align: right;\n",
              "    }\n",
              "</style>\n",
              "<table border=\"1\" class=\"dataframe\">\n",
              "  <thead>\n",
              "    <tr style=\"text-align: right;\">\n",
              "      <th></th>\n",
              "      <th>Id</th>\n",
              "      <th>SepalLengthCm</th>\n",
              "      <th>SepalWidthCm</th>\n",
              "      <th>PetalLengthCm</th>\n",
              "      <th>PetalWidthCm</th>\n",
              "      <th>Species</th>\n",
              "    </tr>\n",
              "  </thead>\n",
              "  <tbody>\n",
              "    <tr>\n",
              "      <th>0</th>\n",
              "      <td>1</td>\n",
              "      <td>5.1</td>\n",
              "      <td>3.5</td>\n",
              "      <td>1.4</td>\n",
              "      <td>0.2</td>\n",
              "      <td>Iris-setosa</td>\n",
              "    </tr>\n",
              "    <tr>\n",
              "      <th>1</th>\n",
              "      <td>2</td>\n",
              "      <td>4.9</td>\n",
              "      <td>3.0</td>\n",
              "      <td>1.4</td>\n",
              "      <td>0.2</td>\n",
              "      <td>Iris-setosa</td>\n",
              "    </tr>\n",
              "    <tr>\n",
              "      <th>2</th>\n",
              "      <td>3</td>\n",
              "      <td>4.7</td>\n",
              "      <td>3.2</td>\n",
              "      <td>1.3</td>\n",
              "      <td>0.2</td>\n",
              "      <td>Iris-setosa</td>\n",
              "    </tr>\n",
              "    <tr>\n",
              "      <th>3</th>\n",
              "      <td>4</td>\n",
              "      <td>4.6</td>\n",
              "      <td>3.1</td>\n",
              "      <td>1.5</td>\n",
              "      <td>0.2</td>\n",
              "      <td>Iris-setosa</td>\n",
              "    </tr>\n",
              "    <tr>\n",
              "      <th>4</th>\n",
              "      <td>5</td>\n",
              "      <td>5.0</td>\n",
              "      <td>3.6</td>\n",
              "      <td>1.4</td>\n",
              "      <td>0.2</td>\n",
              "      <td>Iris-setosa</td>\n",
              "    </tr>\n",
              "  </tbody>\n",
              "</table>\n",
              "</div>\n",
              "    <div class=\"colab-df-buttons\">\n",
              "\n",
              "  <div class=\"colab-df-container\">\n",
              "    <button class=\"colab-df-convert\" onclick=\"convertToInteractive('df-d48b86f5-0d59-4859-8e40-afef109b8d7f')\"\n",
              "            title=\"Convert this dataframe to an interactive table.\"\n",
              "            style=\"display:none;\">\n",
              "\n",
              "  <svg xmlns=\"http://www.w3.org/2000/svg\" height=\"24px\" viewBox=\"0 -960 960 960\">\n",
              "    <path d=\"M120-120v-720h720v720H120Zm60-500h600v-160H180v160Zm220 220h160v-160H400v160Zm0 220h160v-160H400v160ZM180-400h160v-160H180v160Zm440 0h160v-160H620v160ZM180-180h160v-160H180v160Zm440 0h160v-160H620v160Z\"/>\n",
              "  </svg>\n",
              "    </button>\n",
              "\n",
              "  <style>\n",
              "    .colab-df-container {\n",
              "      display:flex;\n",
              "      gap: 12px;\n",
              "    }\n",
              "\n",
              "    .colab-df-convert {\n",
              "      background-color: #E8F0FE;\n",
              "      border: none;\n",
              "      border-radius: 50%;\n",
              "      cursor: pointer;\n",
              "      display: none;\n",
              "      fill: #1967D2;\n",
              "      height: 32px;\n",
              "      padding: 0 0 0 0;\n",
              "      width: 32px;\n",
              "    }\n",
              "\n",
              "    .colab-df-convert:hover {\n",
              "      background-color: #E2EBFA;\n",
              "      box-shadow: 0px 1px 2px rgba(60, 64, 67, 0.3), 0px 1px 3px 1px rgba(60, 64, 67, 0.15);\n",
              "      fill: #174EA6;\n",
              "    }\n",
              "\n",
              "    .colab-df-buttons div {\n",
              "      margin-bottom: 4px;\n",
              "    }\n",
              "\n",
              "    [theme=dark] .colab-df-convert {\n",
              "      background-color: #3B4455;\n",
              "      fill: #D2E3FC;\n",
              "    }\n",
              "\n",
              "    [theme=dark] .colab-df-convert:hover {\n",
              "      background-color: #434B5C;\n",
              "      box-shadow: 0px 1px 3px 1px rgba(0, 0, 0, 0.15);\n",
              "      filter: drop-shadow(0px 1px 2px rgba(0, 0, 0, 0.3));\n",
              "      fill: #FFFFFF;\n",
              "    }\n",
              "  </style>\n",
              "\n",
              "    <script>\n",
              "      const buttonEl =\n",
              "        document.querySelector('#df-d48b86f5-0d59-4859-8e40-afef109b8d7f button.colab-df-convert');\n",
              "      buttonEl.style.display =\n",
              "        google.colab.kernel.accessAllowed ? 'block' : 'none';\n",
              "\n",
              "      async function convertToInteractive(key) {\n",
              "        const element = document.querySelector('#df-d48b86f5-0d59-4859-8e40-afef109b8d7f');\n",
              "        const dataTable =\n",
              "          await google.colab.kernel.invokeFunction('convertToInteractive',\n",
              "                                                    [key], {});\n",
              "        if (!dataTable) return;\n",
              "\n",
              "        const docLinkHtml = 'Like what you see? Visit the ' +\n",
              "          '<a target=\"_blank\" href=https://colab.research.google.com/notebooks/data_table.ipynb>data table notebook</a>'\n",
              "          + ' to learn more about interactive tables.';\n",
              "        element.innerHTML = '';\n",
              "        dataTable['output_type'] = 'display_data';\n",
              "        await google.colab.output.renderOutput(dataTable, element);\n",
              "        const docLink = document.createElement('div');\n",
              "        docLink.innerHTML = docLinkHtml;\n",
              "        element.appendChild(docLink);\n",
              "      }\n",
              "    </script>\n",
              "  </div>\n",
              "\n",
              "\n",
              "<div id=\"df-2019f816-6573-4d7e-bdaa-b7a14e1a9fbf\">\n",
              "  <button class=\"colab-df-quickchart\" onclick=\"quickchart('df-2019f816-6573-4d7e-bdaa-b7a14e1a9fbf')\"\n",
              "            title=\"Suggest charts\"\n",
              "            style=\"display:none;\">\n",
              "\n",
              "<svg xmlns=\"http://www.w3.org/2000/svg\" height=\"24px\"viewBox=\"0 0 24 24\"\n",
              "     width=\"24px\">\n",
              "    <g>\n",
              "        <path d=\"M19 3H5c-1.1 0-2 .9-2 2v14c0 1.1.9 2 2 2h14c1.1 0 2-.9 2-2V5c0-1.1-.9-2-2-2zM9 17H7v-7h2v7zm4 0h-2V7h2v10zm4 0h-2v-4h2v4z\"/>\n",
              "    </g>\n",
              "</svg>\n",
              "  </button>\n",
              "\n",
              "<style>\n",
              "  .colab-df-quickchart {\n",
              "      --bg-color: #E8F0FE;\n",
              "      --fill-color: #1967D2;\n",
              "      --hover-bg-color: #E2EBFA;\n",
              "      --hover-fill-color: #174EA6;\n",
              "      --disabled-fill-color: #AAA;\n",
              "      --disabled-bg-color: #DDD;\n",
              "  }\n",
              "\n",
              "  [theme=dark] .colab-df-quickchart {\n",
              "      --bg-color: #3B4455;\n",
              "      --fill-color: #D2E3FC;\n",
              "      --hover-bg-color: #434B5C;\n",
              "      --hover-fill-color: #FFFFFF;\n",
              "      --disabled-bg-color: #3B4455;\n",
              "      --disabled-fill-color: #666;\n",
              "  }\n",
              "\n",
              "  .colab-df-quickchart {\n",
              "    background-color: var(--bg-color);\n",
              "    border: none;\n",
              "    border-radius: 50%;\n",
              "    cursor: pointer;\n",
              "    display: none;\n",
              "    fill: var(--fill-color);\n",
              "    height: 32px;\n",
              "    padding: 0;\n",
              "    width: 32px;\n",
              "  }\n",
              "\n",
              "  .colab-df-quickchart:hover {\n",
              "    background-color: var(--hover-bg-color);\n",
              "    box-shadow: 0 1px 2px rgba(60, 64, 67, 0.3), 0 1px 3px 1px rgba(60, 64, 67, 0.15);\n",
              "    fill: var(--button-hover-fill-color);\n",
              "  }\n",
              "\n",
              "  .colab-df-quickchart-complete:disabled,\n",
              "  .colab-df-quickchart-complete:disabled:hover {\n",
              "    background-color: var(--disabled-bg-color);\n",
              "    fill: var(--disabled-fill-color);\n",
              "    box-shadow: none;\n",
              "  }\n",
              "\n",
              "  .colab-df-spinner {\n",
              "    border: 2px solid var(--fill-color);\n",
              "    border-color: transparent;\n",
              "    border-bottom-color: var(--fill-color);\n",
              "    animation:\n",
              "      spin 1s steps(1) infinite;\n",
              "  }\n",
              "\n",
              "  @keyframes spin {\n",
              "    0% {\n",
              "      border-color: transparent;\n",
              "      border-bottom-color: var(--fill-color);\n",
              "      border-left-color: var(--fill-color);\n",
              "    }\n",
              "    20% {\n",
              "      border-color: transparent;\n",
              "      border-left-color: var(--fill-color);\n",
              "      border-top-color: var(--fill-color);\n",
              "    }\n",
              "    30% {\n",
              "      border-color: transparent;\n",
              "      border-left-color: var(--fill-color);\n",
              "      border-top-color: var(--fill-color);\n",
              "      border-right-color: var(--fill-color);\n",
              "    }\n",
              "    40% {\n",
              "      border-color: transparent;\n",
              "      border-right-color: var(--fill-color);\n",
              "      border-top-color: var(--fill-color);\n",
              "    }\n",
              "    60% {\n",
              "      border-color: transparent;\n",
              "      border-right-color: var(--fill-color);\n",
              "    }\n",
              "    80% {\n",
              "      border-color: transparent;\n",
              "      border-right-color: var(--fill-color);\n",
              "      border-bottom-color: var(--fill-color);\n",
              "    }\n",
              "    90% {\n",
              "      border-color: transparent;\n",
              "      border-bottom-color: var(--fill-color);\n",
              "    }\n",
              "  }\n",
              "</style>\n",
              "\n",
              "  <script>\n",
              "    async function quickchart(key) {\n",
              "      const quickchartButtonEl =\n",
              "        document.querySelector('#' + key + ' button');\n",
              "      quickchartButtonEl.disabled = true;  // To prevent multiple clicks.\n",
              "      quickchartButtonEl.classList.add('colab-df-spinner');\n",
              "      try {\n",
              "        const charts = await google.colab.kernel.invokeFunction(\n",
              "            'suggestCharts', [key], {});\n",
              "      } catch (error) {\n",
              "        console.error('Error during call to suggestCharts:', error);\n",
              "      }\n",
              "      quickchartButtonEl.classList.remove('colab-df-spinner');\n",
              "      quickchartButtonEl.classList.add('colab-df-quickchart-complete');\n",
              "    }\n",
              "    (() => {\n",
              "      let quickchartButtonEl =\n",
              "        document.querySelector('#df-2019f816-6573-4d7e-bdaa-b7a14e1a9fbf button');\n",
              "      quickchartButtonEl.style.display =\n",
              "        google.colab.kernel.accessAllowed ? 'block' : 'none';\n",
              "    })();\n",
              "  </script>\n",
              "</div>\n",
              "\n",
              "    </div>\n",
              "  </div>\n"
            ],
            "application/vnd.google.colaboratory.intrinsic+json": {
              "type": "dataframe",
              "variable_name": "data",
              "summary": "{\n  \"name\": \"data\",\n  \"rows\": 150,\n  \"fields\": [\n    {\n      \"column\": \"Id\",\n      \"properties\": {\n        \"dtype\": \"number\",\n        \"std\": 43,\n        \"min\": 1,\n        \"max\": 150,\n        \"num_unique_values\": 150,\n        \"samples\": [\n          74,\n          19,\n          119\n        ],\n        \"semantic_type\": \"\",\n        \"description\": \"\"\n      }\n    },\n    {\n      \"column\": \"SepalLengthCm\",\n      \"properties\": {\n        \"dtype\": \"number\",\n        \"std\": 0.8280661279778629,\n        \"min\": 4.3,\n        \"max\": 7.9,\n        \"num_unique_values\": 35,\n        \"samples\": [\n          6.2,\n          4.5,\n          5.6\n        ],\n        \"semantic_type\": \"\",\n        \"description\": \"\"\n      }\n    },\n    {\n      \"column\": \"SepalWidthCm\",\n      \"properties\": {\n        \"dtype\": \"number\",\n        \"std\": 0.4335943113621737,\n        \"min\": 2.0,\n        \"max\": 4.4,\n        \"num_unique_values\": 23,\n        \"samples\": [\n          2.3,\n          4.0,\n          3.5\n        ],\n        \"semantic_type\": \"\",\n        \"description\": \"\"\n      }\n    },\n    {\n      \"column\": \"PetalLengthCm\",\n      \"properties\": {\n        \"dtype\": \"number\",\n        \"std\": 1.7644204199522617,\n        \"min\": 1.0,\n        \"max\": 6.9,\n        \"num_unique_values\": 43,\n        \"samples\": [\n          6.7,\n          3.8,\n          3.7\n        ],\n        \"semantic_type\": \"\",\n        \"description\": \"\"\n      }\n    },\n    {\n      \"column\": \"PetalWidthCm\",\n      \"properties\": {\n        \"dtype\": \"number\",\n        \"std\": 0.7631607417008414,\n        \"min\": 0.1,\n        \"max\": 2.5,\n        \"num_unique_values\": 22,\n        \"samples\": [\n          0.2,\n          1.2,\n          1.3\n        ],\n        \"semantic_type\": \"\",\n        \"description\": \"\"\n      }\n    },\n    {\n      \"column\": \"Species\",\n      \"properties\": {\n        \"dtype\": \"category\",\n        \"num_unique_values\": 3,\n        \"samples\": [\n          \"Iris-setosa\",\n          \"Iris-versicolor\",\n          \"Iris-virginica\"\n        ],\n        \"semantic_type\": \"\",\n        \"description\": \"\"\n      }\n    }\n  ]\n}"
            }
          },
          "metadata": {},
          "execution_count": 32
        }
      ],
      "source": [
        "data.head()"
      ]
    },
    {
      "cell_type": "code",
      "execution_count": null,
      "metadata": {
        "colab": {
          "base_uri": "https://localhost:8080/"
        },
        "id": "fLM-ywy8vl7W",
        "outputId": "99a4115c-ed2f-479d-dc5b-9105a354d3a3"
      },
      "outputs": [
        {
          "output_type": "stream",
          "name": "stdout",
          "text": [
            "(150, 6)\n"
          ]
        }
      ],
      "source": [
        "\n",
        "print(data.shape)"
      ]
    },
    {
      "cell_type": "code",
      "execution_count": null,
      "metadata": {
        "colab": {
          "base_uri": "https://localhost:8080/"
        },
        "id": "c_9e-pvYvoOG",
        "outputId": "10bdb41c-0baa-40d2-9155-ee4299f12f64"
      },
      "outputs": [
        {
          "output_type": "stream",
          "name": "stdout",
          "text": [
            "<class 'pandas.core.frame.DataFrame'>\n",
            "RangeIndex: 150 entries, 0 to 149\n",
            "Data columns (total 6 columns):\n",
            " #   Column         Non-Null Count  Dtype  \n",
            "---  ------         --------------  -----  \n",
            " 0   Id             150 non-null    int64  \n",
            " 1   SepalLengthCm  150 non-null    float64\n",
            " 2   SepalWidthCm   150 non-null    float64\n",
            " 3   PetalLengthCm  150 non-null    float64\n",
            " 4   PetalWidthCm   150 non-null    float64\n",
            " 5   Species        150 non-null    object \n",
            "dtypes: float64(4), int64(1), object(1)\n",
            "memory usage: 7.2+ KB\n"
          ]
        }
      ],
      "source": [
        "data.info()"
      ]
    },
    {
      "cell_type": "code",
      "execution_count": null,
      "metadata": {
        "colab": {
          "base_uri": "https://localhost:8080/"
        },
        "id": "XbakzEvA1HkS",
        "outputId": "eae01fe8-5541-4765-ed69-e80615b66252"
      },
      "outputs": [
        {
          "name": "stdout",
          "output_type": "stream",
          "text": [
            "<class 'pandas.core.frame.DataFrame'>\n",
            "RangeIndex: 150 entries, 0 to 149\n",
            "Data columns (total 5 columns):\n",
            " #   Column         Non-Null Count  Dtype  \n",
            "---  ------         --------------  -----  \n",
            " 0   SepalLengthCm  150 non-null    float64\n",
            " 1   SepalWidthCm   150 non-null    float64\n",
            " 2   PetalLengthCm  150 non-null    float64\n",
            " 3   PetalWidthCm   150 non-null    float64\n",
            " 4   Species        150 non-null    object \n",
            "dtypes: float64(4), object(1)\n",
            "memory usage: 6.0+ KB\n"
          ]
        }
      ],
      "source": [
        "data = data.drop([\"Id\"], axis=1)\n",
        "data.info()"
      ]
    },
    {
      "cell_type": "code",
      "execution_count": null,
      "metadata": {
        "id": "qkXqaIfWvq3m"
      },
      "outputs": [],
      "source": [
        "data.Species = data.Species.replace(data.Species.unique(),[*range(len(data.Species.unique()))])"
      ]
    },
    {
      "cell_type": "code",
      "execution_count": null,
      "metadata": {
        "colab": {
          "base_uri": "https://localhost:8080/",
          "height": 424
        },
        "id": "ze1dC6Mqw-V7",
        "outputId": "4f2a1849-98bc-440f-bd07-1f7696c0bda1"
      },
      "outputs": [
        {
          "data": {
            "text/html": [
              "\n",
              "  <div id=\"df-53af7282-2c39-48d1-bf2f-5de3b89e6998\">\n",
              "    <div class=\"colab-df-container\">\n",
              "      <div>\n",
              "<style scoped>\n",
              "    .dataframe tbody tr th:only-of-type {\n",
              "        vertical-align: middle;\n",
              "    }\n",
              "\n",
              "    .dataframe tbody tr th {\n",
              "        vertical-align: top;\n",
              "    }\n",
              "\n",
              "    .dataframe thead th {\n",
              "        text-align: right;\n",
              "    }\n",
              "</style>\n",
              "<table border=\"1\" class=\"dataframe\">\n",
              "  <thead>\n",
              "    <tr style=\"text-align: right;\">\n",
              "      <th></th>\n",
              "      <th>SepalLengthCm</th>\n",
              "      <th>SepalWidthCm</th>\n",
              "      <th>PetalLengthCm</th>\n",
              "      <th>PetalWidthCm</th>\n",
              "      <th>Species</th>\n",
              "    </tr>\n",
              "  </thead>\n",
              "  <tbody>\n",
              "    <tr>\n",
              "      <th>0</th>\n",
              "      <td>5.1</td>\n",
              "      <td>3.5</td>\n",
              "      <td>1.4</td>\n",
              "      <td>0.2</td>\n",
              "      <td>0</td>\n",
              "    </tr>\n",
              "    <tr>\n",
              "      <th>1</th>\n",
              "      <td>4.9</td>\n",
              "      <td>3.0</td>\n",
              "      <td>1.4</td>\n",
              "      <td>0.2</td>\n",
              "      <td>0</td>\n",
              "    </tr>\n",
              "    <tr>\n",
              "      <th>2</th>\n",
              "      <td>4.7</td>\n",
              "      <td>3.2</td>\n",
              "      <td>1.3</td>\n",
              "      <td>0.2</td>\n",
              "      <td>0</td>\n",
              "    </tr>\n",
              "    <tr>\n",
              "      <th>3</th>\n",
              "      <td>4.6</td>\n",
              "      <td>3.1</td>\n",
              "      <td>1.5</td>\n",
              "      <td>0.2</td>\n",
              "      <td>0</td>\n",
              "    </tr>\n",
              "    <tr>\n",
              "      <th>4</th>\n",
              "      <td>5.0</td>\n",
              "      <td>3.6</td>\n",
              "      <td>1.4</td>\n",
              "      <td>0.2</td>\n",
              "      <td>0</td>\n",
              "    </tr>\n",
              "    <tr>\n",
              "      <th>...</th>\n",
              "      <td>...</td>\n",
              "      <td>...</td>\n",
              "      <td>...</td>\n",
              "      <td>...</td>\n",
              "      <td>...</td>\n",
              "    </tr>\n",
              "    <tr>\n",
              "      <th>95</th>\n",
              "      <td>5.7</td>\n",
              "      <td>3.0</td>\n",
              "      <td>4.2</td>\n",
              "      <td>1.2</td>\n",
              "      <td>1</td>\n",
              "    </tr>\n",
              "    <tr>\n",
              "      <th>96</th>\n",
              "      <td>5.7</td>\n",
              "      <td>2.9</td>\n",
              "      <td>4.2</td>\n",
              "      <td>1.3</td>\n",
              "      <td>1</td>\n",
              "    </tr>\n",
              "    <tr>\n",
              "      <th>97</th>\n",
              "      <td>6.2</td>\n",
              "      <td>2.9</td>\n",
              "      <td>4.3</td>\n",
              "      <td>1.3</td>\n",
              "      <td>1</td>\n",
              "    </tr>\n",
              "    <tr>\n",
              "      <th>98</th>\n",
              "      <td>5.1</td>\n",
              "      <td>2.5</td>\n",
              "      <td>3.0</td>\n",
              "      <td>1.1</td>\n",
              "      <td>1</td>\n",
              "    </tr>\n",
              "    <tr>\n",
              "      <th>99</th>\n",
              "      <td>5.7</td>\n",
              "      <td>2.8</td>\n",
              "      <td>4.1</td>\n",
              "      <td>1.3</td>\n",
              "      <td>1</td>\n",
              "    </tr>\n",
              "  </tbody>\n",
              "</table>\n",
              "<p>100 rows × 5 columns</p>\n",
              "</div>\n",
              "      <button class=\"colab-df-convert\" onclick=\"convertToInteractive('df-53af7282-2c39-48d1-bf2f-5de3b89e6998')\"\n",
              "              title=\"Convert this dataframe to an interactive table.\"\n",
              "              style=\"display:none;\">\n",
              "        \n",
              "  <svg xmlns=\"http://www.w3.org/2000/svg\" height=\"24px\"viewBox=\"0 0 24 24\"\n",
              "       width=\"24px\">\n",
              "    <path d=\"M0 0h24v24H0V0z\" fill=\"none\"/>\n",
              "    <path d=\"M18.56 5.44l.94 2.06.94-2.06 2.06-.94-2.06-.94-.94-2.06-.94 2.06-2.06.94zm-11 1L8.5 8.5l.94-2.06 2.06-.94-2.06-.94L8.5 2.5l-.94 2.06-2.06.94zm10 10l.94 2.06.94-2.06 2.06-.94-2.06-.94-.94-2.06-.94 2.06-2.06.94z\"/><path d=\"M17.41 7.96l-1.37-1.37c-.4-.4-.92-.59-1.43-.59-.52 0-1.04.2-1.43.59L10.3 9.45l-7.72 7.72c-.78.78-.78 2.05 0 2.83L4 21.41c.39.39.9.59 1.41.59.51 0 1.02-.2 1.41-.59l7.78-7.78 2.81-2.81c.8-.78.8-2.07 0-2.86zM5.41 20L4 18.59l7.72-7.72 1.47 1.35L5.41 20z\"/>\n",
              "  </svg>\n",
              "      </button>\n",
              "      \n",
              "  <style>\n",
              "    .colab-df-container {\n",
              "      display:flex;\n",
              "      flex-wrap:wrap;\n",
              "      gap: 12px;\n",
              "    }\n",
              "\n",
              "    .colab-df-convert {\n",
              "      background-color: #E8F0FE;\n",
              "      border: none;\n",
              "      border-radius: 50%;\n",
              "      cursor: pointer;\n",
              "      display: none;\n",
              "      fill: #1967D2;\n",
              "      height: 32px;\n",
              "      padding: 0 0 0 0;\n",
              "      width: 32px;\n",
              "    }\n",
              "\n",
              "    .colab-df-convert:hover {\n",
              "      background-color: #E2EBFA;\n",
              "      box-shadow: 0px 1px 2px rgba(60, 64, 67, 0.3), 0px 1px 3px 1px rgba(60, 64, 67, 0.15);\n",
              "      fill: #174EA6;\n",
              "    }\n",
              "\n",
              "    [theme=dark] .colab-df-convert {\n",
              "      background-color: #3B4455;\n",
              "      fill: #D2E3FC;\n",
              "    }\n",
              "\n",
              "    [theme=dark] .colab-df-convert:hover {\n",
              "      background-color: #434B5C;\n",
              "      box-shadow: 0px 1px 3px 1px rgba(0, 0, 0, 0.15);\n",
              "      filter: drop-shadow(0px 1px 2px rgba(0, 0, 0, 0.3));\n",
              "      fill: #FFFFFF;\n",
              "    }\n",
              "  </style>\n",
              "\n",
              "      <script>\n",
              "        const buttonEl =\n",
              "          document.querySelector('#df-53af7282-2c39-48d1-bf2f-5de3b89e6998 button.colab-df-convert');\n",
              "        buttonEl.style.display =\n",
              "          google.colab.kernel.accessAllowed ? 'block' : 'none';\n",
              "\n",
              "        async function convertToInteractive(key) {\n",
              "          const element = document.querySelector('#df-53af7282-2c39-48d1-bf2f-5de3b89e6998');\n",
              "          const dataTable =\n",
              "            await google.colab.kernel.invokeFunction('convertToInteractive',\n",
              "                                                     [key], {});\n",
              "          if (!dataTable) return;\n",
              "\n",
              "          const docLinkHtml = 'Like what you see? Visit the ' +\n",
              "            '<a target=\"_blank\" href=https://colab.research.google.com/notebooks/data_table.ipynb>data table notebook</a>'\n",
              "            + ' to learn more about interactive tables.';\n",
              "          element.innerHTML = '';\n",
              "          dataTable['output_type'] = 'display_data';\n",
              "          await google.colab.output.renderOutput(dataTable, element);\n",
              "          const docLink = document.createElement('div');\n",
              "          docLink.innerHTML = docLinkHtml;\n",
              "          element.appendChild(docLink);\n",
              "        }\n",
              "      </script>\n",
              "    </div>\n",
              "  </div>\n",
              "  "
            ],
            "text/plain": [
              "    SepalLengthCm  SepalWidthCm  PetalLengthCm  PetalWidthCm  Species\n",
              "0             5.1           3.5            1.4           0.2        0\n",
              "1             4.9           3.0            1.4           0.2        0\n",
              "2             4.7           3.2            1.3           0.2        0\n",
              "3             4.6           3.1            1.5           0.2        0\n",
              "4             5.0           3.6            1.4           0.2        0\n",
              "..            ...           ...            ...           ...      ...\n",
              "95            5.7           3.0            4.2           1.2        1\n",
              "96            5.7           2.9            4.2           1.3        1\n",
              "97            6.2           2.9            4.3           1.3        1\n",
              "98            5.1           2.5            3.0           1.1        1\n",
              "99            5.7           2.8            4.1           1.3        1\n",
              "\n",
              "[100 rows x 5 columns]"
            ]
          },
          "execution_count": 19,
          "metadata": {},
          "output_type": "execute_result"
        }
      ],
      "source": [
        "binary_iris = data[data.Species!=2].reset_index(drop=True)\n",
        "binary_iris"
      ]
    },
    {
      "cell_type": "code",
      "execution_count": null,
      "metadata": {
        "id": "F7ZkU9oTxEZJ"
      },
      "outputs": [],
      "source": [
        "X = binary_iris.iloc[:, :-1].values\n",
        "Y = binary_iris.iloc[:,-1].values\n"
      ]
    },
    {
      "cell_type": "code",
      "execution_count": null,
      "metadata": {
        "colab": {
          "base_uri": "https://localhost:8080/"
        },
        "id": "yBolOOAg00UZ",
        "outputId": "469117b6-1346-42b7-f4dd-51801d6dba08"
      },
      "outputs": [
        {
          "output_type": "stream",
          "name": "stdout",
          "text": [
            "Progress Further\n"
          ]
        }
      ],
      "source": [
        "# Sanity Check:\n",
        "if X.shape[0] == Y.shape[0]:\n",
        "  print(\"Progress Further\")\n",
        "else:\n",
        "  print(\"X and Y are not created correctly\")"
      ]
    },
    {
      "cell_type": "markdown",
      "metadata": {
        "id": "b3l2CA0F1u_y"
      },
      "source": [
        "# Train Test Split:"
      ]
    },
    {
      "cell_type": "code",
      "execution_count": null,
      "metadata": {
        "id": "-yPeV5Nu01lX"
      },
      "outputs": [],
      "source": [
        "from sklearn.model_selection import train_test_split\n",
        "x_train, x_test, y_train, y_test = train_test_split(X, Y, test_size=0.2, random_state=42)"
      ]
    },
    {
      "cell_type": "code",
      "execution_count": null,
      "metadata": {
        "colab": {
          "base_uri": "https://localhost:8080/"
        },
        "id": "l-8WO_TX1XpJ",
        "outputId": "6802c0d7-10c5-483d-ec1d-fff30ea65a99"
      },
      "outputs": [
        {
          "output_type": "stream",
          "name": "stdout",
          "text": [
            "Progress Further\n"
          ]
        }
      ],
      "source": [
        "# Sanity Check:\n",
        "if x_train.shape[0] == y_train.shape[0]:\n",
        "  print(\"Progress Further\")\n",
        "else:\n",
        "  print(\"x_train and y_train are not created correctly\")\n"
      ]
    },
    {
      "cell_type": "markdown",
      "metadata": {
        "id": "oWC1GJTG6KGg"
      },
      "source": [
        "# Model Fitting:\n",
        "\n",
        "Training of the Model:\n"
      ]
    },
    {
      "cell_type": "code",
      "execution_count": null,
      "metadata": {
        "colab": {
          "base_uri": "https://localhost:8080/",
          "height": 389
        },
        "id": "HDA8HhY82CPX",
        "outputId": "b8f1ac6c-b1c0-456f-892e-aaa7e8ca0af9"
      },
      "outputs": [
        {
          "output_type": "stream",
          "name": "stderr",
          "text": [
            "Gradient Descent Progress:   0%|          | 0/2000 [00:00<?, ?it/s]\n"
          ]
        },
        {
          "output_type": "error",
          "ename": "TypeError",
          "evalue": "unsupported operand type(s) for -: 'float' and 'str'",
          "traceback": [
            "\u001b[0;31m---------------------------------------------------------------------------\u001b[0m",
            "\u001b[0;31mTypeError\u001b[0m                                 Traceback (most recent call last)",
            "\u001b[0;32m<ipython-input-43-815efad3b264>\u001b[0m in \u001b[0;36m<cell line: 5>\u001b[0;34m()\u001b[0m\n\u001b[1;32m      3\u001b[0m \u001b[0mb_init\u001b[0m \u001b[0;34m=\u001b[0m \u001b[0;34m-\u001b[0m\u001b[0;36m1\u001b[0m\u001b[0;34m\u001b[0m\u001b[0;34m\u001b[0m\u001b[0m\n\u001b[1;32m      4\u001b[0m \u001b[0;31m# Learning model parameters using gradient descent algorithm\u001b[0m\u001b[0;34m\u001b[0m\u001b[0;34m\u001b[0m\u001b[0m\n\u001b[0;32m----> 5\u001b[0;31m w_out, b_out, cost_history, params_history = gradient_descent(x_train,\n\u001b[0m\u001b[1;32m      6\u001b[0m                                                        \u001b[0my_train\u001b[0m\u001b[0;34m,\u001b[0m\u001b[0;34m\u001b[0m\u001b[0;34m\u001b[0m\u001b[0m\n\u001b[1;32m      7\u001b[0m                                                        \u001b[0mw\u001b[0m \u001b[0;34m=\u001b[0m \u001b[0mw_init\u001b[0m\u001b[0;34m,\u001b[0m\u001b[0;34m\u001b[0m\u001b[0;34m\u001b[0m\u001b[0m\n",
            "\u001b[0;32m<ipython-input-17-475af2e72fe5>\u001b[0m in \u001b[0;36mgradient_descent\u001b[0;34m(X, y, w, b, alpha, n_iter, show_cost, show_params)\u001b[0m\n\u001b[1;32m     65\u001b[0m     \u001b[0;32mfor\u001b[0m \u001b[0mi\u001b[0m \u001b[0;32min\u001b[0m \u001b[0mtqdm\u001b[0m\u001b[0;34m(\u001b[0m\u001b[0mrange\u001b[0m\u001b[0;34m(\u001b[0m\u001b[0mn_iter\u001b[0m\u001b[0;34m)\u001b[0m\u001b[0;34m,\u001b[0m \u001b[0mdesc\u001b[0m\u001b[0;34m=\u001b[0m\u001b[0;34m\"Gradient Descent Progress\"\u001b[0m\u001b[0;34m)\u001b[0m\u001b[0;34m:\u001b[0m\u001b[0;34m\u001b[0m\u001b[0;34m\u001b[0m\u001b[0m\n\u001b[1;32m     66\u001b[0m         \u001b[0;31m# Compute gradients\u001b[0m\u001b[0;34m\u001b[0m\u001b[0;34m\u001b[0m\u001b[0m\n\u001b[0;32m---> 67\u001b[0;31m         \u001b[0mgrad_w\u001b[0m\u001b[0;34m,\u001b[0m \u001b[0mgrad_b\u001b[0m \u001b[0;34m=\u001b[0m \u001b[0mcompute_gradient\u001b[0m\u001b[0;34m(\u001b[0m\u001b[0mX\u001b[0m\u001b[0;34m,\u001b[0m \u001b[0my\u001b[0m\u001b[0;34m,\u001b[0m \u001b[0mw\u001b[0m\u001b[0;34m,\u001b[0m \u001b[0mb\u001b[0m\u001b[0;34m)\u001b[0m\u001b[0;34m\u001b[0m\u001b[0;34m\u001b[0m\u001b[0m\n\u001b[0m\u001b[1;32m     68\u001b[0m \u001b[0;34m\u001b[0m\u001b[0m\n\u001b[1;32m     69\u001b[0m         \u001b[0;31m# Update parameters\u001b[0m\u001b[0;34m\u001b[0m\u001b[0;34m\u001b[0m\u001b[0m\n",
            "\u001b[0;32m<ipython-input-17-475af2e72fe5>\u001b[0m in \u001b[0;36mcompute_gradient\u001b[0;34m(X, y, w, b)\u001b[0m\n\u001b[1;32m     17\u001b[0m     \u001b[0mz\u001b[0m \u001b[0;34m=\u001b[0m \u001b[0mnp\u001b[0m\u001b[0;34m.\u001b[0m\u001b[0mdot\u001b[0m\u001b[0;34m(\u001b[0m\u001b[0mX\u001b[0m\u001b[0;34m,\u001b[0m \u001b[0mw\u001b[0m\u001b[0;34m)\u001b[0m \u001b[0;34m+\u001b[0m \u001b[0mb\u001b[0m\u001b[0;34m\u001b[0m\u001b[0;34m\u001b[0m\u001b[0m\n\u001b[1;32m     18\u001b[0m     \u001b[0my_pred\u001b[0m \u001b[0;34m=\u001b[0m \u001b[0;36m1\u001b[0m \u001b[0;34m/\u001b[0m \u001b[0;34m(\u001b[0m\u001b[0;36m1\u001b[0m \u001b[0;34m+\u001b[0m \u001b[0mnp\u001b[0m\u001b[0;34m.\u001b[0m\u001b[0mexp\u001b[0m\u001b[0;34m(\u001b[0m\u001b[0;34m-\u001b[0m\u001b[0mz\u001b[0m\u001b[0;34m)\u001b[0m\u001b[0;34m)\u001b[0m\u001b[0;34m\u001b[0m\u001b[0;34m\u001b[0m\u001b[0m\n\u001b[0;32m---> 19\u001b[0;31m     \u001b[0merror\u001b[0m \u001b[0;34m=\u001b[0m \u001b[0my_pred\u001b[0m \u001b[0;34m-\u001b[0m \u001b[0my\u001b[0m\u001b[0;34m\u001b[0m\u001b[0;34m\u001b[0m\u001b[0m\n\u001b[0m\u001b[1;32m     20\u001b[0m     \u001b[0mgrad_w\u001b[0m \u001b[0;34m=\u001b[0m \u001b[0;34m(\u001b[0m\u001b[0;36m1\u001b[0m \u001b[0;34m/\u001b[0m \u001b[0mm\u001b[0m\u001b[0;34m)\u001b[0m \u001b[0;34m*\u001b[0m \u001b[0mnp\u001b[0m\u001b[0;34m.\u001b[0m\u001b[0mdot\u001b[0m\u001b[0;34m(\u001b[0m\u001b[0mX\u001b[0m\u001b[0;34m.\u001b[0m\u001b[0mT\u001b[0m\u001b[0;34m,\u001b[0m \u001b[0merror\u001b[0m\u001b[0;34m)\u001b[0m\u001b[0;34m\u001b[0m\u001b[0;34m\u001b[0m\u001b[0m\n\u001b[1;32m     21\u001b[0m     \u001b[0mgrad_b\u001b[0m \u001b[0;34m=\u001b[0m \u001b[0;34m(\u001b[0m\u001b[0;36m1\u001b[0m \u001b[0;34m/\u001b[0m \u001b[0mm\u001b[0m\u001b[0;34m)\u001b[0m \u001b[0;34m*\u001b[0m \u001b[0mnp\u001b[0m\u001b[0;34m.\u001b[0m\u001b[0msum\u001b[0m\u001b[0;34m(\u001b[0m\u001b[0merror\u001b[0m\u001b[0;34m)\u001b[0m\u001b[0;34m\u001b[0m\u001b[0;34m\u001b[0m\u001b[0m\n",
            "\u001b[0;31mTypeError\u001b[0m: unsupported operand type(s) for -: 'float' and 'str'"
          ]
        }
      ],
      "source": [
        "# Initiialization:\n",
        "w_init = np.zeros(x_train.shape[1])\n",
        "b_init = -1\n",
        "# Learning model parameters using gradient descent algorithm\n",
        "w_out, b_out, cost_history, params_history = gradient_descent(x_train,\n",
        "                                                       y_train,\n",
        "                                                       w = w_init,\n",
        "                                                       b = b_init,\n",
        "                                                       alpha = 0.1,\n",
        "                                                       n_iter = 2000)\n"
      ]
    },
    {
      "cell_type": "code",
      "execution_count": null,
      "metadata": {
        "colab": {
          "base_uri": "https://localhost:8080/",
          "height": 441
        },
        "id": "FnFlAjjI7B26",
        "outputId": "2d19b9f8-6f96-4376-8d97-93a0c12ddbdd"
      },
      "outputs": [
        {
          "data": {
            "image/png": "[encoded data removed]",
            "text/plain": [
              "<Figure size 648x432 with 1 Axes>"
            ]
          },
          "metadata": {
            "needs_background": "light"
          },
          "output_type": "display_data"
        }
      ],
      "source": [
        "# Plotting cost over iteration\n",
        "plt.figure(figsize = (9, 6))\n",
        "plt.plot(cost_history)\n",
        "plt.xlabel(\"Iteration\", fontsize = 14)\n",
        "plt.ylabel(\"Cost\", fontsize = 14)\n",
        "plt.title(\"Cost vs Iteration\", fontsize = 14)\n",
        "plt.tight_layout()\n",
        "plt.show()"
      ]
    },
    {
      "cell_type": "markdown",
      "metadata": {
        "id": "4Nt2tq4OIfRv"
      },
      "source": [
        "### **Prediction and Decision Boundry**\n",
        "- Prediction:\n",
        "\n",
        "  - Utilizing our trained weights and biases we first find the probabilities values y_probab for the x_test.\n",
        "Then, Y_probabiliy value is transformed to discrete class value using Decision boubdry.\n",
        "___\n",
        "- Decision Boundry:\n",
        "  - We first calculate the y_prediction as probabilities value, which is then converted to discrete class by using a threshold value. For instance, we take the threshold to be 0.5,then we classify the observation to class 1 and to class 0 otherwise.\n",
        "___\n",
        "\n",
        "\n"
      ]
    },
    {
      "cell_type": "code",
      "execution_count": null,
      "metadata": {
        "id": "eVJoulDp7Ppt"
      },
      "outputs": [],
      "source": [
        "from sklearn.metrics import confusion_matrix\n",
        "from sklearn.model_selection import train_test_split # Import train_test_split\n",
        "\n",
        "def prediction(x_test, w_out, b_out):\n",
        "  \"\"\"\n",
        "  Computes the prediction for given test values.\n",
        "  Arguments: Inputs\n",
        "  x_test (nd array): Array of Test Independent variables.\n",
        "  w_out (nd array): Array of weights learned via gradient descent.\n",
        "  b_out (nd array) Array of bias learned via gradiebt descent.\n",
        "  Arguments: Output\n",
        "  y_pred (nd arrray): Array of Predicted dependent Variables.\n",
        "  \"\"\"\n",
        "  #Fixed: Selecting the first 2 features from x_test to match the shape of w_out\n",
        "  x_test_subset = x_test[:, :2]\n",
        "  y_test_prob = logistic_function(np.matmul(x_test_subset, w_out) + (b_out * np.ones(x_test_subset.shape[0])))\n",
        "  # y_pred = [] #Fixed: Removed this line that initialized y_pred as an empty list\n",
        "  y_pred = (y_test_prob > 0.5).astype(int) #Fixed: Added this line to calculate y_pred based on y_test_prob\n",
        "\n",
        "  return y_pred\n",
        "# y_pred = (y_test_prob > 0.5).astype(int)\n",
        "\n",
        "# Assuming X and Y are your feature and target data respectively\n",
        "# This line recreates the train-test split, ensuring x_test is defined\n",
        "# Instead of binary_iris, using the 'data' DataFrame likely containing the iris dataset\n",
        "# and applying the filter to select data where 'Species' is not 2.\n",
        "binary_iris = data[data.Species!=2].reset_index(drop=True) # Recreating binary_iris\n",
        "X = binary_iris.iloc[:, :-1].values\n",
        "Y = binary_iris.iloc[:, -1].values\n",
        "x_train, x_test, y_train, y_test = train_test_split(X, Y, test_size=0.2, random_state=42)\n",
        "\n",
        "y_pred = prediction(x_test, w_out, b_out)\n",
        "y_pred = np.array(y_pred)"
      ]
    },
    {
      "cell_type": "code",
      "execution_count": null,
      "metadata": {
        "colab": {
          "base_uri": "https://localhost:8080/"
        },
        "id": "XV9A8zUSIPtG",
        "outputId": "b4500617-49ed-42fb-a6df-844b3f12d13e"
      },
      "outputs": [
        {
          "output_type": "execute_result",
          "data": {
            "text/plain": [
              "True"
            ]
          },
          "metadata": {},
          "execution_count": 58
        }
      ],
      "source": [
        "y_pred.shape == y_test.shape"
      ]
    },
    {
      "cell_type": "code",
      "execution_count": null,
      "metadata": {
        "colab": {
          "base_uri": "https://localhost:8080/"
        },
        "id": "ItzfMfRqIVNO",
        "outputId": "b8b68df0-8020-4190-cd6b-fc0a8e555609"
      },
      "outputs": [
        {
          "output_type": "execute_result",
          "data": {
            "text/plain": [
              "array([1, 1, 1, 1, 1, 1, 1, 1, 1, 1, 1, 1, 1, 1, 1, 1, 1, 1, 1, 1, 1, 1,\n",
              "       1, 1, 1, 1, 1, 1, 1, 1])"
            ]
          },
          "metadata": {},
          "execution_count": 57
        }
      ],
      "source": [
        "y_pred"
      ]
    },
    {
      "cell_type": "code",
      "execution_count": null,
      "metadata": {
        "colab": {
          "base_uri": "https://localhost:8080/"
        },
        "id": "U94YcuS5IXea",
        "outputId": "dcf2077a-a842-449a-8e33-c1d0d3b6a6d2"
      },
      "outputs": [
        {
          "output_type": "execute_result",
          "data": {
            "text/plain": [
              "array(['Iris-versicolor', 'Iris-setosa', 'Iris-virginica',\n",
              "       'Iris-versicolor', 'Iris-versicolor', 'Iris-setosa',\n",
              "       'Iris-versicolor', 'Iris-virginica', 'Iris-versicolor',\n",
              "       'Iris-versicolor', 'Iris-virginica', 'Iris-setosa', 'Iris-setosa',\n",
              "       'Iris-setosa', 'Iris-setosa', 'Iris-versicolor', 'Iris-virginica',\n",
              "       'Iris-versicolor', 'Iris-versicolor', 'Iris-virginica',\n",
              "       'Iris-setosa', 'Iris-virginica', 'Iris-setosa', 'Iris-virginica',\n",
              "       'Iris-virginica', 'Iris-virginica', 'Iris-virginica',\n",
              "       'Iris-virginica', 'Iris-setosa', 'Iris-setosa'], dtype=object)"
            ]
          },
          "metadata": {},
          "execution_count": 56
        }
      ],
      "source": [
        "y_test"
      ]
    },
    {
      "cell_type": "code",
      "execution_count": null,
      "metadata": {
        "id": "Uy_j54t7IN8R"
      },
      "outputs": [],
      "source": [
        "import matplotlib.pyplot as plt\n",
        "# Convert y_test to numerical labels using label encoding\n",
        "from sklearn.preprocessing import LabelEncoder\n",
        "\n",
        "le = LabelEncoder()\n",
        "y_test_encoded = le.fit_transform(y_test)\n",
        "\n",
        "# Now, calculate the confusion matrix using the encoded labels\n",
        "cm = confusion_matrix(y_test_encoded, y_pred)\n",
        "\n",
        "# ... (rest of your code to plot the confusion matrix)"
      ]
    },
    {
      "cell_type": "code",
      "execution_count": null,
      "metadata": {
        "id": "Fs5VFUEhFnEM"
      },
      "outputs": [],
      "source": [
        "from sklearn.metrics import confusion_matrix\n",
        "from sklearn.model_selection import train_test_split # Import train_test_split\n",
        "\n",
        "def prediction(x_test, w_out, b_out):\n",
        "  \"\"\"\n",
        "  Computes the prediction for given test values.\n",
        "  Arguments: Inputs\n",
        "  x_test (nd array): Array of Test Independent variables.\n",
        "  w_out (nd array): Array of weights learned via gradient descent.\n",
        "  b_out (nd array) Array of bias learned via gradiebt descent.\n",
        "  Arguments: Output\n",
        "  y_pred (nd arrray): Array of Predicted dependent Variables.\n",
        "  \"\"\"\n",
        "  # Selecting the first 2 features from x_test to match the shape of w_out\n",
        "  x_test_subset = x_test[:, :2]  # Select only the first 2 columns of x_test\n",
        "  y_test_prob = logistic_function(np.matmul(x_test_subset, w_out) + (b_out * np.ones(x_test_subset.shape[0])))\n",
        "  y_pred = (y_test_prob > 0.5).astype(int) # Calculate y_pred based on y_test_prob\n",
        "\n",
        "  return y_pred\n",
        "\n",
        "\n",
        "y_pred = prediction(x_test, w_out, b_out)\n",
        "y_pred = np.array(y_pred)"
      ]
    }
  ],
  "metadata": {
    "colab": {
      "provenance": []
    },
    "kernelspec": {
      "display_name": "Python 3 (ipykernel)",
      "language": "python",
      "name": "python3"
    },
    "language_info": {
      "codemirror_mode": {
        "name": "ipython",
        "version": 3
      },
      "file_extension": ".py",
      "mimetype": "text/x-python",
      "name": "python",
      "nbconvert_exporter": "python",
      "pygments_lexer": "ipython3",
      "version": "3.9.12"
    }
  },
  "nbformat": 4,
  "nbformat_minor": 0
}