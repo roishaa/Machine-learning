{
  "nbformat": 4,
  "nbformat_minor": 0,
  "metadata": {
    "colab": {
      "provenance": []
    },
    "kernelspec": {
      "name": "python3",
      "display_name": "Python 3"
    },
    "language_info": {
      "name": "python"
    }
  },
  "cells": [
    {
      "cell_type": "code",
      "execution_count": null,
      "metadata": {
        "colab": {
          "base_uri": "https://localhost:8080/"
        },
        "id": "awPnSWZXNUG0",
        "outputId": "f67cc667-751b-4889-e3d9-48dbc6749ea7"
      },
      "outputs": [
        {
          "output_type": "stream",
          "name": "stdout",
          "text": [
            "Cold temperatures: [8.2, 7.9, 9.0, 8.5, 7.7, 8.4, 9.5, 8.1, 7.6, 8.0, 7.8, 8.7, 9.2, 8.3, 8.9, 7.8]\n",
            "Mild temperatures: [14.1, 13.5, 13.0, 12.9, 13.3, 14.0, 13.4, 14.2, 12.8, 13.7, 13.6, 13.8, 13.9, 12.7, 13.1, 12.5]\n",
            "Comfortable temperatures: [17.4, 18.0, 17.8, 16.5, 17.2, 16.7, 18.3, 17.9, 17.0, 16.8, 17.5, 17.1, 18.1, 16.4, 18.2, 16.6]\n"
          ]
        }
      ],
      "source": [
        "# Temperature data\n",
        "temperatures = [\n",
        "    8.2, 17.4, 14.1, 7.9, 18.0, 13.5, 9.0, 17.8, 13.0, 8.5,\n",
        "    16.5, 12.9, 7.7, 17.2, 13.3, 8.4, 16.7, 14.0, 9.5, 18.3,\n",
        "    13.4, 8.1, 17.9, 14.2, 7.6, 17.0, 12.8, 8.0, 16.8, 13.7,\n",
        "    7.8, 17.5, 13.6, 8.7, 17.1, 13.8, 9.2, 18.1, 13.9, 8.3,\n",
        "    16.4, 12.7, 8.9, 18.2, 13.1, 7.8, 16.6, 12.5\n",
        "]\n",
        "\n",
        "# Create empty lists for classifications\n",
        "cold = []          # For temperatures below 10°C\n",
        "mild = []          # For temperatures between 10°C and 15°C\n",
        "comfortable = []   # For temperatures between 15°C and 20°C\n",
        "\n",
        "# Iterate and classify temperatures\n",
        "for temp in temperatures:\n",
        "    if temp < 10:\n",
        "        cold.append(temp)\n",
        "    elif 10 <= temp <= 15:\n",
        "        mild.append(temp)\n",
        "    elif 15 < temp <= 20:\n",
        "        comfortable.append(temp)\n",
        "\n",
        "# Print the results to verify classifications\n",
        "print(\"Cold temperatures:\", cold)\n",
        "print(\"Mild temperatures:\", mild)\n",
        "print(\"Comfortable temperatures:\", comfortable)\n"
      ]
    },
    {
      "cell_type": "code",
      "source": [
        "# Temperature data\n",
        "temperatures = [\n",
        "    8.2, 17.4, 14.1, 7.9, 18.0, 13.5, 9.0, 17.8, 13.0, 8.5,\n",
        "    16.5, 12.9, 7.7, 17.2, 13.3, 8.4, 16.7, 14.0, 9.5, 18.3,\n",
        "    13.4, 8.1, 17.9, 14.2, 7.6, 17.0, 12.8, 8.0, 16.8, 13.7,\n",
        "    7.8, 17.5, 13.6, 8.7, 17.1, 13.8, 9.2, 18.1, 13.9, 8.3,\n",
        "    16.4, 12.7, 8.9, 18.2, 13.1, 7.8, 16.6, 12.5\n",
        "]\n",
        "\n",
        "# Create empty lists for classifications\n",
        "cold = []          # For temperatures below 10°C\n",
        "mild = []          # For temperatures between 10°C and 15°C\n",
        "comfortable = []   # For temperatures between 15°C and 20°C\n",
        "\n",
        "# Iterate and classify temperatures\n",
        "for temp in temperatures:\n",
        "    if temp < 10:\n",
        "        cold.append(temp)\n",
        "    elif 10 <= temp <= 15:\n",
        "        mild.append(temp)\n",
        "    elif 15 < temp <= 20:\n",
        "        comfortable.append(temp)\n",
        "\n",
        "# Count the occurrences in each category\n",
        "cold_count = len(cold)          # Number of cold temperatures\n",
        "mild_count = len(mild)          # Number of mild temperatures\n",
        "comfortable_count = len(comfortable)  # Number of comfortable temperatures\n",
        "\n",
        "# Print the results\n",
        "print(\"Number of cold temperatures:\", cold_count)\n",
        "print(\"Number of mild temperatures:\", mild_count)\n",
        "print(\"Number of comfortable temperatures:\", comfortable_count)\n"
      ],
      "metadata": {
        "colab": {
          "base_uri": "https://localhost:8080/"
        },
        "id": "J7g_8eC8Oq1V",
        "outputId": "72d87969-6796-4547-e0d1-2f5b64257b84"
      },
      "execution_count": null,
      "outputs": [
        {
          "output_type": "stream",
          "name": "stdout",
          "text": [
            "Number of cold temperatures: 16\n",
            "Number of mild temperatures: 16\n",
            "Number of comfortable temperatures: 16\n"
          ]
        }
      ]
    },
    {
      "cell_type": "code",
      "source": [
        "# Temperature data\n",
        "temperatures = [\n",
        "    8.2, 17.4, 14.1, 7.9, 18.0, 13.5, 9.0, 17.8, 13.0, 8.5,\n",
        "    16.5, 12.9, 7.7, 17.2, 13.3, 8.4, 16.7, 14.0, 9.5, 18.3,\n",
        "    13.4, 8.1, 17.9, 14.2, 7.6, 17.0, 12.8, 8.0, 16.8, 13.7,\n",
        "    7.8, 17.5, 13.6, 8.7, 17.1, 13.8, 9.2, 18.1, 13.9, 8.3,\n",
        "    16.4, 12.7, 8.9, 18.2, 13.1, 7.8, 16.6, 12.5\n",
        "]\n",
        "\n",
        "# Create empty lists for classifications\n",
        "cold = []          # For temperatures below 10°C\n",
        "mild = []          # For temperatures between 10°C and 15°C\n",
        "comfortable = []   # For temperatures between 15°C and 20°C\n",
        "\n",
        "# Iterate and classify temperatures\n",
        "for temp in temperatures:\n",
        "    if temp < 10:\n",
        "        cold.append(temp)\n",
        "    elif 10 <= temp <= 15:\n",
        "        mild.append(temp)\n",
        "    elif 15 < temp <= 20:\n",
        "        comfortable.append(temp)\n",
        "# Convert temperatures to Fahrenheit using the formula\n",
        "temperatures_fahrenheit = [(temp * 9/5) + 32 for temp in temperatures]\n",
        "\n",
        "# Print the converted Fahrenheit values\n",
        "print(\"Temperatures in Fahrenheit:\", temperatures_fahrenheit)\n"
      ],
      "metadata": {
        "colab": {
          "base_uri": "https://localhost:8080/"
        },
        "id": "666aQJF2O2H_",
        "outputId": "731cba84-619c-446c-f3dd-533c7e166e4f"
      },
      "execution_count": null,
      "outputs": [
        {
          "output_type": "stream",
          "name": "stdout",
          "text": [
            "Temperatures in Fahrenheit: [46.76, 63.32, 57.379999999999995, 46.22, 64.4, 56.3, 48.2, 64.04, 55.4, 47.3, 61.7, 55.22, 45.86, 62.959999999999994, 55.94, 47.120000000000005, 62.059999999999995, 57.2, 49.1, 64.94, 56.120000000000005, 46.58, 64.22, 57.56, 45.68, 62.6, 55.04, 46.4, 62.24, 56.66, 46.04, 63.5, 56.48, 47.66, 62.78, 56.84, 48.56, 64.58, 57.02, 46.94, 61.519999999999996, 54.86, 48.02, 64.75999999999999, 55.58, 46.04, 61.88, 54.5]\n"
          ]
        }
      ]
    },
    {
      "cell_type": "code",
      "source": [
        "# Import matplotlib for plotting\n",
        "import matplotlib.pyplot as plt\n",
        "\n",
        "# Temperature data\n",
        "temperatures = [\n",
        "    8.2, 17.4, 14.1, 7.9, 18.0, 13.5, 9.0, 17.8, 13.0, 8.5,\n",
        "    16.5, 12.9, 7.7, 17.2, 13.3, 8.4, 16.7, 14.0, 9.5, 18.3,\n",
        "    13.4, 8.1, 17.9, 14.2, 7.6, 17.0, 12.8, 8.0, 16.8, 13.7,\n",
        "    7.8, 17.5, 13.6, 8.7, 17.1, 13.8, 9.2, 18.1, 13.9, 8.3,\n",
        "    16.4, 12.7, 8.9, 18.2, 13.1, 7.8, 16.6, 12.5\n",
        "]\n",
        "\n",
        "# Create empty lists for time-of-day temperatures\n",
        "night_temps = []    # Night (00-08)\n",
        "evening_temps = []  # Evening (08-16)\n",
        "day_temps = []      # Day (16-24)\n",
        "\n",
        "# Assign values based on position in the list\n",
        "for i, temp in enumerate(temperatures):\n",
        "    if i % 3 == 0:  # Night readings (every 3rd starting from 0)\n",
        "        night_temps.append(temp)\n",
        "    elif i % 3 == 1:  # Evening readings (every 3rd starting from 1)\n",
        "        evening_temps.append(temp)\n",
        "    elif i % 3 == 2:  # Day readings (every 3rd starting from 2)\n",
        "        day_temps.append(temp)\n",
        "\n",
        "# Calculate average daytime temperature\n",
        "avg_day_temp = sum(day_temps) / len(day_temps)\n",
        "\n",
        "# Print the results\n",
        "print(\"Night temperatures:\", night_temps)\n",
        "print(\"Evening temperatures:\", evening_temps)\n",
        "print(\"Day temperatures:\", day_temps)\n",
        "print(\"Average daytime temperature:\", avg_day_temp)\n",
        "\n",
        "# Plot \"Day vs. Temperature\"\n",
        "plt.plot(range(1, len(day_temps) + 1), day_temps, marker='o', label=\"Day Temperatures\")\n",
        "plt.xlabel(\"Day\")\n",
        "plt.ylabel(\"Temperature (°C)\")\n",
        "plt.title(\"Day vs. Temperature\")\n",
        "plt.legend()\n",
        "plt.grid()\n",
        "plt.show()\n"
      ],
      "metadata": {
        "colab": {
          "base_uri": "https://localhost:8080/",
          "height": 561
        },
        "id": "hqUHQ4RSPIaB",
        "outputId": "5cb33869-edd1-48a4-b119-dfbb7b2e73e0"
      },
      "execution_count": null,
      "outputs": [
        {
          "output_type": "stream",
          "name": "stdout",
          "text": [
            "Night temperatures: [8.2, 7.9, 9.0, 8.5, 7.7, 8.4, 9.5, 8.1, 7.6, 8.0, 7.8, 8.7, 9.2, 8.3, 8.9, 7.8]\n",
            "Evening temperatures: [17.4, 18.0, 17.8, 16.5, 17.2, 16.7, 18.3, 17.9, 17.0, 16.8, 17.5, 17.1, 18.1, 16.4, 18.2, 16.6]\n",
            "Day temperatures: [14.1, 13.5, 13.0, 12.9, 13.3, 14.0, 13.4, 14.2, 12.8, 13.7, 13.6, 13.8, 13.9, 12.7, 13.1, 12.5]\n",
            "Average daytime temperature: 13.40625\n"
          ]
        },
        {
          "output_type": "display_data",
          "data": {
            "text/plain": [
              "<Figure size 640x480 with 1 Axes>"
            ],
            "image/png": "[encoded data removed]"
          },
          "metadata": {}
        }
      ]
    },
    {
      "cell_type": "code",
      "source": [
        "#sum of nested lists task 1\n",
        "def sum_nested_list(nested_list):\n",
        "    \"\"\"\n",
        "    Calculate the sum of all numbers in a nested list.\n",
        "    This function takes a list that may contain integers and other nested lists.\n",
        "    It recursively traverses the list and sums all the integers, no matter how deeply\n",
        "    nested they are.\n",
        "\n",
        "    Args:\n",
        "    nested_list (list): A list that may contain integers or other lists of integers.\n",
        "\n",
        "    Returns:\n",
        "    int: The total sum of all integers in the nested list, including those in sublists.\n",
        "    \"\"\"\n",
        "    total = 0\n",
        "    for element in nested_list:\n",
        "        if isinstance(element, list):  # Check if the element is a list\n",
        "            total += sum_nested_list(element)  # Recursively sum the nested list\n",
        "        else:\n",
        "            total += element  # Add the number to the total\n",
        "    return total\n",
        "\n",
        "# Testing the function\n",
        "nested_list_1 = [1, [2, [3, 4], 5], 6, [7, 8]]\n",
        "nested_list_2 = [1, [2, 3], [4, [5]]]\n",
        "\n",
        "# Test cases\n",
        "print(\"Sum of nested_list_1:\", sum_nested_list(nested_list_1))  # Expected: 36\n",
        "print(\"Sum of nested_list_2:\", sum_nested_list(nested_list_2))  # Expected: 15\n"
      ],
      "metadata": {
        "colab": {
          "base_uri": "https://localhost:8080/"
        },
        "id": "wWO4bFxQP4FL",
        "outputId": "cea3e1a1-8a12-4cbc-d910-97044771a908"
      },
      "execution_count": null,
      "outputs": [
        {
          "output_type": "stream",
          "name": "stdout",
          "text": [
            "Sum of nested_list_1: 36\n",
            "Sum of nested_list_2: 15\n"
          ]
        }
      ]
    },
    {
      "cell_type": "code",
      "source": [
        "#task2\n",
        "def generate_permutations(s):\n",
        "    def backtrack(path, used, res):\n",
        "        if len(path) == len(s):\n",
        "            res.append(\"\".join(path))\n",
        "            return\n",
        "\n",
        "        for i in range(len(s)):\n",
        "            # Skip used characters or duplicates\n",
        "            if used[i] or (i > 0 and s[i] == s[i - 1] and not used[i - 1]):\n",
        "                continue\n",
        "\n",
        "            # Choose the character\n",
        "            used[i] = True\n",
        "            path.append(s[i])\n",
        "\n",
        "            # Explore\n",
        "            backtrack(path, used, res)\n",
        "\n",
        "            # Unchoose the character\n",
        "            path.pop()\n",
        "            used[i] = False\n",
        "\n",
        "    # Sort the string to handle duplicates\n",
        "    s = sorted(s)\n",
        "    res = []\n",
        "    used = [False] * len(s)\n",
        "    backtrack([], used, res)\n",
        "    return res\n",
        "\n",
        "# Testing the function\n",
        "print(generate_permutations(\"abc\"))  # ['abc', 'acb', 'bac', 'bca', 'cab', 'cba']\n",
        "print(generate_permutations(\"aab\"))  # ['aab', 'aba', 'baa']\n"
      ],
      "metadata": {
        "colab": {
          "base_uri": "https://localhost:8080/"
        },
        "id": "-8UKt4GNQVRy",
        "outputId": "fc2a78ee-fb9f-4d5b-ab99-29f80aeb1412"
      },
      "execution_count": null,
      "outputs": [
        {
          "output_type": "stream",
          "name": "stdout",
          "text": [
            "['abc', 'acb', 'bac', 'bca', 'cab', 'cba']\n",
            "['aab', 'aba', 'baa']\n"
          ]
        }
      ]
    },
    {
      "cell_type": "code",
      "source": [
        "#Task 3 - Directory Size Calculation:\n",
        "def calculate_directory_size(directory):\n",
        "    total_size = 0  # Initialize total size\n",
        "\n",
        "    for name, content in directory.items():\n",
        "        if isinstance(content, dict):  # If it's a subdirectory\n",
        "            total_size += calculate_directory_size(content)  # Recursively calculate its size\n",
        "        else:  # It's a file\n",
        "            total_size += content  # Add the file size to the total\n",
        "\n",
        "    return total_size\n",
        "\n",
        "# Sample directory structure\n",
        "directory_structure = {\n",
        "    \"file1.txt\": 200,\n",
        "    \"file2.txt\": 300,\n",
        "    \"subdir1\": {\n",
        "        \"file3.txt\": 400,\n",
        "        \"file4.txt\": 100\n",
        "    },\n",
        "    \"subdir2\": {\n",
        "        \"subsubdir1\": {\n",
        "            \"file5.txt\": 250\n",
        "        },\n",
        "        \"file6.txt\": 150\n",
        "    }\n",
        "}\n",
        "\n",
        "# Test the function\n",
        "print(\"Total size of directory:\", calculate_directory_size(directory_structure))\n"
      ],
      "metadata": {
        "colab": {
          "base_uri": "https://localhost:8080/"
        },
        "id": "VJg9uMpUQrnJ",
        "outputId": "7010535e-e12e-4a4d-d77f-8c3c3be2774b"
      },
      "execution_count": null,
      "outputs": [
        {
          "output_type": "stream",
          "name": "stdout",
          "text": [
            "Total size of directory: 1400\n"
          ]
        }
      ]
    },
    {
      "cell_type": "code",
      "source": [
        "#Exercises - Dynamic Programming:\n",
        "#Task 1 - Coin Change Problem:\n",
        "def min_coins(coins, amount):\n",
        "    \"\"\"\n",
        "    Finds the minimum number of coins needed to make up a given amount using dynamic programming.\n",
        "\n",
        "    Parameters:\n",
        "        coins (list of int): Available coin denominations.\n",
        "        amount (int): The target amount.\n",
        "\n",
        "    Returns:\n",
        "        int: The minimum number of coins required to make the amount.\n",
        "             Returns -1 if it's not possible.\n",
        "    \"\"\"\n",
        "    # Initialize a DP array with 'infinity' to represent unreachable amounts\n",
        "    dp = [float('inf')] * (amount + 1)\n",
        "    dp[0] = 0  # Base case: 0 coins needed to make amount 0\n",
        "\n",
        "    # Fill the DP array\n",
        "    for coin in coins:\n",
        "        for i in range(coin, amount + 1):\n",
        "            dp[i] = min(dp[i], dp[i - coin] + 1)\n",
        "\n",
        "    # If dp[amount] is still 'infinity', it means the amount cannot be reached\n",
        "    return dp[amount] if dp[amount] != float('inf') else -1\n",
        "\n",
        "# Testing the function\n",
        "coins = [1, 2, 5]\n",
        "amount = 11\n",
        "print(min_coins(coins, amount))  # Output: 3 (5 + 5 + 1)\n",
        "\n",
        "# Additional Test Cases\n",
        "print(min_coins([2], 3))          # Output: -1 (impossible to form 3 using only 2)\n",
        "print(min_coins([1, 2, 5], 0))    # Output: 0 (0 amount needs 0 coins)\n",
        "print(min_coins([186, 419, 83, 408], 6249))  # Output: 20 (complex case)\n"
      ],
      "metadata": {
        "colab": {
          "base_uri": "https://localhost:8080/"
        },
        "id": "zMUgZgAbRgXY",
        "outputId": "2f9852d3-1f15-44c8-e964-4eb4ff25cb4b"
      },
      "execution_count": null,
      "outputs": [
        {
          "output_type": "stream",
          "name": "stdout",
          "text": [
            "3\n",
            "-1\n",
            "0\n",
            "20\n"
          ]
        }
      ]
    },
    {
      "cell_type": "code",
      "source": [
        "#Task 2 - Longest Common Subsequence (LCS):\n",
        "def longest_common_subsequence(s1, s2):\n",
        "    \"\"\"\n",
        "    Finds the length of the longest common subsequence (LCS) between two strings.\n",
        "\n",
        "    Parameters:\n",
        "        s1 (str): First string.\n",
        "        s2 (str): Second string.\n",
        "\n",
        "    Returns:\n",
        "        int: Length of the LCS.\n",
        "    \"\"\"\n",
        "    # Create a DP table with dimensions (len(s1) + 1) x (len(s2) + 1)\n",
        "    dp = [[0] * (len(s2) + 1) for _ in range(len(s1) + 1)]\n",
        "\n",
        "    # Fill the DP table\n",
        "    for i in range(1, len(s1) + 1):\n",
        "        for j in range(1, len(s2) + 1):\n",
        "            if s1[i - 1] == s2[j - 1]:  # Characters match\n",
        "                dp[i][j] = dp[i - 1][j - 1] + 1\n",
        "            else:  # Characters don't match\n",
        "                dp[i][j] = max(dp[i - 1][j], dp[i][j - 1])\n",
        "\n",
        "    # The value in the bottom-right corner of the table is the length of the LCS\n",
        "    return dp[-1][-1]\n",
        "\n",
        "# Testing the function\n",
        "print(longest_common_subsequence(\"abcde\", \"ace\"))  # Output: 3 (\"ace\")\n",
        "print(longest_common_subsequence(\"abc\", \"def\"))    # Output: 0 (no common subsequence)\n",
        "print(longest_common_subsequence(\"abc\", \"abc\"))    # Output: 3 (\"abc\")\n"
      ],
      "metadata": {
        "colab": {
          "base_uri": "https://localhost:8080/"
        },
        "id": "E0fuNQ1HSCvI",
        "outputId": "9c332c15-fb72-4b6a-c849-31be4847786b"
      },
      "execution_count": null,
      "outputs": [
        {
          "output_type": "stream",
          "name": "stdout",
          "text": [
            "3\n",
            "0\n",
            "3\n"
          ]
        }
      ]
    },
    {
      "cell_type": "code",
      "source": [
        "#Task 3 - 0/1 Knapsack Problem:\n",
        "def knapsack(weights, values, capacity):\n",
        "    \"\"\"\n",
        "    Solves the 0/1 Knapsack problem using dynamic programming.\n",
        "\n",
        "    Parameters:\n",
        "        weights (list of int): List of item weights.\n",
        "        values (list of int): List of item values.\n",
        "        capacity (int): Maximum weight capacity of the knapsack.\n",
        "\n",
        "    Returns:\n",
        "        int: Maximum value achievable within the given weight capacity.\n",
        "    \"\"\"\n",
        "    n = len(weights)\n",
        "    # Create a DP table with dimensions (n + 1) x (capacity + 1)\n",
        "    dp = [[0] * (capacity + 1) for _ in range(n + 1)]\n",
        "\n",
        "    # Fill the DP table\n",
        "    for i in range(1, n + 1):\n",
        "        for w in range(1, capacity + 1):\n",
        "            if weights[i - 1] <= w:  # Item can fit in the knapsack\n",
        "                dp[i][w] = max(dp[i - 1][w], dp[i - 1][w - weights[i - 1]] + values[i - 1])\n",
        "            else:  # Item cannot fit in the knapsack\n",
        "                dp[i][w] = dp[i - 1][w]\n",
        "\n",
        "    # The maximum value is in the bottom-right corner of the DP table\n",
        "    return dp[n][capacity]\n",
        "\n",
        "# Testing the function\n",
        "weights = [1, 3, 4, 5]\n",
        "values = [1, 4, 5, 7]\n",
        "capacity = 7\n",
        "print(knapsack(weights, values, capacity))  # Output: 9\n"
      ],
      "metadata": {
        "colab": {
          "base_uri": "https://localhost:8080/"
        },
        "id": "N9tH4CZqSIUq",
        "outputId": "f4169632-e854-4b9d-ef89-cd8c99bbe23e"
      },
      "execution_count": null,
      "outputs": [
        {
          "output_type": "stream",
          "name": "stdout",
          "text": [
            "9\n"
          ]
        }
      ]
    }
  ]
}